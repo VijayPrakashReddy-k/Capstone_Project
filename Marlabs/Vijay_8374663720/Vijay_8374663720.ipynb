{
 "cells": [
  {
   "cell_type": "code",
   "execution_count": 1,
   "metadata": {},
   "outputs": [
    {
     "data": {
      "text/plain": [
       "['Rain Prediction Test.csv', 'Rain Prediction Train.csv']"
      ]
     },
     "execution_count": 1,
     "metadata": {},
     "output_type": "execute_result"
    }
   ],
   "source": [
    "import glob\n",
    "glob.glob('*.csv')"
   ]
  },
  {
   "cell_type": "code",
   "execution_count": 24,
   "metadata": {},
   "outputs": [],
   "source": [
    "import numpy as np\n",
    "import pandas as pd\n",
    "import matplotlib.pyplot as plt\n",
    "import seaborn as sns\n",
    "%matplotlib inline\n",
    "\n",
    "import warnings\n",
    "warnings.filterwarnings(\"ignore\")"
   ]
  },
  {
   "cell_type": "code",
   "execution_count": 25,
   "metadata": {},
   "outputs": [],
   "source": [
    "# importing the data\n",
    "\n",
    "data = pd.read_csv('Rain Prediction Train.csv')"
   ]
  },
  {
   "cell_type": "code",
   "execution_count": 26,
   "metadata": {},
   "outputs": [
    {
     "name": "stdout",
     "output_type": "stream",
     "text": [
      "There are 100000 rows and 23 coloumns\n"
     ]
    }
   ],
   "source": [
    "#check the shape of the dataset\n",
    "\n",
    "print(\"There are {} rows and {} coloumns\".format(data.shape[0],data.shape[1]))"
   ]
  },
  {
   "cell_type": "code",
   "execution_count": 27,
   "metadata": {},
   "outputs": [
    {
     "data": {
      "text/html": [
       "<div>\n",
       "<style scoped>\n",
       "    .dataframe tbody tr th:only-of-type {\n",
       "        vertical-align: middle;\n",
       "    }\n",
       "\n",
       "    .dataframe tbody tr th {\n",
       "        vertical-align: top;\n",
       "    }\n",
       "\n",
       "    .dataframe thead th {\n",
       "        text-align: right;\n",
       "    }\n",
       "</style>\n",
       "<table border=\"1\" class=\"dataframe\">\n",
       "  <thead>\n",
       "    <tr style=\"text-align: right;\">\n",
       "      <th></th>\n",
       "      <th>Date</th>\n",
       "      <th>Location</th>\n",
       "      <th>MinTemp</th>\n",
       "      <th>MaxTemp</th>\n",
       "      <th>Rainfall</th>\n",
       "      <th>Evaporation</th>\n",
       "      <th>Sunshine</th>\n",
       "      <th>WindGustDir</th>\n",
       "      <th>WindGustSpeed</th>\n",
       "      <th>WindDir9am</th>\n",
       "      <th>...</th>\n",
       "      <th>Humidity9am</th>\n",
       "      <th>Humidity3pm</th>\n",
       "      <th>Pressure9am</th>\n",
       "      <th>Pressure3pm</th>\n",
       "      <th>Cloud9am</th>\n",
       "      <th>Cloud3pm</th>\n",
       "      <th>Temp9am</th>\n",
       "      <th>Temp3pm</th>\n",
       "      <th>RainToday</th>\n",
       "      <th>RainTomorrow</th>\n",
       "    </tr>\n",
       "  </thead>\n",
       "  <tbody>\n",
       "    <tr>\n",
       "      <th>0</th>\n",
       "      <td>07-02-2014</td>\n",
       "      <td>CoffsHarbour</td>\n",
       "      <td>17.7</td>\n",
       "      <td>25.9</td>\n",
       "      <td>2.2</td>\n",
       "      <td>1.6</td>\n",
       "      <td>NaN</td>\n",
       "      <td>NNE</td>\n",
       "      <td>31.0</td>\n",
       "      <td>SW</td>\n",
       "      <td>...</td>\n",
       "      <td>76.0</td>\n",
       "      <td>66.0</td>\n",
       "      <td>1017.3</td>\n",
       "      <td>1016.5</td>\n",
       "      <td>7.0</td>\n",
       "      <td>4.0</td>\n",
       "      <td>21.5</td>\n",
       "      <td>24.2</td>\n",
       "      <td>Yes</td>\n",
       "      <td>No</td>\n",
       "    </tr>\n",
       "    <tr>\n",
       "      <th>1</th>\n",
       "      <td>23-04-2009</td>\n",
       "      <td>Portland</td>\n",
       "      <td>6.7</td>\n",
       "      <td>22.0</td>\n",
       "      <td>0.0</td>\n",
       "      <td>5.4</td>\n",
       "      <td>0.4</td>\n",
       "      <td>NNE</td>\n",
       "      <td>44.0</td>\n",
       "      <td>NE</td>\n",
       "      <td>...</td>\n",
       "      <td>65.0</td>\n",
       "      <td>37.0</td>\n",
       "      <td>1014.0</td>\n",
       "      <td>1008.8</td>\n",
       "      <td>7.0</td>\n",
       "      <td>8.0</td>\n",
       "      <td>14.0</td>\n",
       "      <td>21.8</td>\n",
       "      <td>No</td>\n",
       "      <td>Yes</td>\n",
       "    </tr>\n",
       "    <tr>\n",
       "      <th>2</th>\n",
       "      <td>08-11-2015</td>\n",
       "      <td>Watsonia</td>\n",
       "      <td>6.2</td>\n",
       "      <td>25.7</td>\n",
       "      <td>0.0</td>\n",
       "      <td>4.2</td>\n",
       "      <td>10.9</td>\n",
       "      <td>WSW</td>\n",
       "      <td>20.0</td>\n",
       "      <td>SE</td>\n",
       "      <td>...</td>\n",
       "      <td>71.0</td>\n",
       "      <td>28.0</td>\n",
       "      <td>1022.5</td>\n",
       "      <td>1019.4</td>\n",
       "      <td>2.0</td>\n",
       "      <td>7.0</td>\n",
       "      <td>12.8</td>\n",
       "      <td>23.6</td>\n",
       "      <td>No</td>\n",
       "      <td>No</td>\n",
       "    </tr>\n",
       "    <tr>\n",
       "      <th>3</th>\n",
       "      <td>21-11-2012</td>\n",
       "      <td>Wollongong</td>\n",
       "      <td>13.8</td>\n",
       "      <td>22.8</td>\n",
       "      <td>0.0</td>\n",
       "      <td>NaN</td>\n",
       "      <td>NaN</td>\n",
       "      <td>SSW</td>\n",
       "      <td>70.0</td>\n",
       "      <td>N</td>\n",
       "      <td>...</td>\n",
       "      <td>65.0</td>\n",
       "      <td>76.0</td>\n",
       "      <td>1017.0</td>\n",
       "      <td>1010.6</td>\n",
       "      <td>NaN</td>\n",
       "      <td>NaN</td>\n",
       "      <td>18.9</td>\n",
       "      <td>20.6</td>\n",
       "      <td>No</td>\n",
       "      <td>No</td>\n",
       "    </tr>\n",
       "    <tr>\n",
       "      <th>4</th>\n",
       "      <td>30-07-2013</td>\n",
       "      <td>Townsville</td>\n",
       "      <td>13.4</td>\n",
       "      <td>27.2</td>\n",
       "      <td>0.0</td>\n",
       "      <td>6.0</td>\n",
       "      <td>10.2</td>\n",
       "      <td>ENE</td>\n",
       "      <td>30.0</td>\n",
       "      <td>SSW</td>\n",
       "      <td>...</td>\n",
       "      <td>61.0</td>\n",
       "      <td>46.0</td>\n",
       "      <td>1016.8</td>\n",
       "      <td>1011.8</td>\n",
       "      <td>1.0</td>\n",
       "      <td>1.0</td>\n",
       "      <td>21.7</td>\n",
       "      <td>25.6</td>\n",
       "      <td>No</td>\n",
       "      <td>No</td>\n",
       "    </tr>\n",
       "  </tbody>\n",
       "</table>\n",
       "<p>5 rows × 23 columns</p>\n",
       "</div>"
      ],
      "text/plain": [
       "         Date      Location  MinTemp  MaxTemp  Rainfall  Evaporation  \\\n",
       "0  07-02-2014  CoffsHarbour     17.7     25.9       2.2          1.6   \n",
       "1  23-04-2009      Portland      6.7     22.0       0.0          5.4   \n",
       "2  08-11-2015      Watsonia      6.2     25.7       0.0          4.2   \n",
       "3  21-11-2012    Wollongong     13.8     22.8       0.0          NaN   \n",
       "4  30-07-2013    Townsville     13.4     27.2       0.0          6.0   \n",
       "\n",
       "   Sunshine WindGustDir  WindGustSpeed WindDir9am      ...      Humidity9am  \\\n",
       "0       NaN         NNE           31.0         SW      ...             76.0   \n",
       "1       0.4         NNE           44.0         NE      ...             65.0   \n",
       "2      10.9         WSW           20.0         SE      ...             71.0   \n",
       "3       NaN         SSW           70.0          N      ...             65.0   \n",
       "4      10.2         ENE           30.0        SSW      ...             61.0   \n",
       "\n",
       "   Humidity3pm  Pressure9am  Pressure3pm  Cloud9am  Cloud3pm  Temp9am  \\\n",
       "0         66.0       1017.3       1016.5       7.0       4.0     21.5   \n",
       "1         37.0       1014.0       1008.8       7.0       8.0     14.0   \n",
       "2         28.0       1022.5       1019.4       2.0       7.0     12.8   \n",
       "3         76.0       1017.0       1010.6       NaN       NaN     18.9   \n",
       "4         46.0       1016.8       1011.8       1.0       1.0     21.7   \n",
       "\n",
       "   Temp3pm  RainToday  RainTomorrow  \n",
       "0     24.2        Yes            No  \n",
       "1     21.8         No           Yes  \n",
       "2     23.6         No            No  \n",
       "3     20.6         No            No  \n",
       "4     25.6         No            No  \n",
       "\n",
       "[5 rows x 23 columns]"
      ]
     },
     "execution_count": 27,
     "metadata": {},
     "output_type": "execute_result"
    }
   ],
   "source": [
    "# To see first 5 observations from the dataset\n",
    "\n",
    "data.head()"
   ]
  },
  {
   "cell_type": "code",
   "execution_count": 28,
   "metadata": {},
   "outputs": [
    {
     "name": "stdout",
     "output_type": "stream",
     "text": [
      "<class 'pandas.core.frame.DataFrame'>\n",
      "RangeIndex: 100000 entries, 0 to 99999\n",
      "Data columns (total 23 columns):\n",
      "Date             100000 non-null object\n",
      "Location         100000 non-null object\n",
      "MinTemp          99564 non-null float64\n",
      "MaxTemp          99784 non-null float64\n",
      "Rainfall         99030 non-null float64\n",
      "Evaporation      57367 non-null float64\n",
      "Sunshine         52518 non-null float64\n",
      "WindGustDir      93419 non-null object\n",
      "WindGustSpeed    93460 non-null float64\n",
      "WindDir9am       92938 non-null object\n",
      "WindDir3pm       97309 non-null object\n",
      "WindSpeed9am     99062 non-null float64\n",
      "WindSpeed3pm     98146 non-null float64\n",
      "Humidity9am      98762 non-null float64\n",
      "Humidity3pm      97456 non-null float64\n",
      "Pressure9am      90163 non-null float64\n",
      "Pressure3pm      90188 non-null float64\n",
      "Cloud9am         62372 non-null float64\n",
      "Cloud3pm         59989 non-null float64\n",
      "Temp9am          99380 non-null float64\n",
      "Temp3pm          98090 non-null float64\n",
      "RainToday        99030 non-null object\n",
      "RainTomorrow     100000 non-null object\n",
      "dtypes: float64(16), object(7)\n",
      "memory usage: 17.5+ MB\n"
     ]
    }
   ],
   "source": [
    "# To know the data type of each feature\n",
    "\n",
    "data.info()"
   ]
  },
  {
   "cell_type": "code",
   "execution_count": 36,
   "metadata": {},
   "outputs": [],
   "source": [
    "for column in data.columns:\n",
    "    if data[column].dtype == 'object':\n",
    "        data[column] = data[column].astype('category') \n",
    "    else:\n",
    "        pass"
   ]
  },
  {
   "cell_type": "code",
   "execution_count": 37,
   "metadata": {},
   "outputs": [
    {
     "name": "stdout",
     "output_type": "stream",
     "text": [
      "<class 'pandas.core.frame.DataFrame'>\n",
      "RangeIndex: 100000 entries, 0 to 99999\n",
      "Data columns (total 23 columns):\n",
      "Date             100000 non-null category\n",
      "Location         100000 non-null category\n",
      "MinTemp          99564 non-null float64\n",
      "MaxTemp          99784 non-null float64\n",
      "Rainfall         99030 non-null float64\n",
      "Evaporation      57367 non-null float64\n",
      "Sunshine         52518 non-null float64\n",
      "WindGustDir      93419 non-null category\n",
      "WindGustSpeed    93460 non-null float64\n",
      "WindDir9am       92938 non-null category\n",
      "WindDir3pm       97309 non-null category\n",
      "WindSpeed9am     99062 non-null float64\n",
      "WindSpeed3pm     98146 non-null float64\n",
      "Humidity9am      98762 non-null float64\n",
      "Humidity3pm      97456 non-null float64\n",
      "Pressure9am      90163 non-null float64\n",
      "Pressure3pm      90188 non-null float64\n",
      "Cloud9am         62372 non-null float64\n",
      "Cloud3pm         59989 non-null float64\n",
      "Temp9am          99380 non-null float64\n",
      "Temp3pm          98090 non-null float64\n",
      "RainToday        99030 non-null category\n",
      "RainTomorrow     100000 non-null category\n",
      "dtypes: category(7), float64(16)\n",
      "memory usage: 13.2 MB\n"
     ]
    }
   ],
   "source": [
    "# To know the data type of each feature\n",
    "\n",
    "data.info()"
   ]
  },
  {
   "cell_type": "code",
   "execution_count": 38,
   "metadata": {},
   "outputs": [
    {
     "data": {
      "text/plain": [
       "Sunshine          52518\n",
       "Evaporation       57367\n",
       "Cloud3pm          59989\n",
       "Cloud9am          62372\n",
       "Pressure9am       90163\n",
       "Pressure3pm       90188\n",
       "WindDir9am        92938\n",
       "WindGustDir       93419\n",
       "WindGustSpeed     93460\n",
       "WindDir3pm        97309\n",
       "Humidity3pm       97456\n",
       "Temp3pm           98090\n",
       "WindSpeed3pm      98146\n",
       "Humidity9am       98762\n",
       "Rainfall          99030\n",
       "RainToday         99030\n",
       "WindSpeed9am      99062\n",
       "Temp9am           99380\n",
       "MinTemp           99564\n",
       "MaxTemp           99784\n",
       "Date             100000\n",
       "Location         100000\n",
       "RainTomorrow     100000\n",
       "dtype: int64"
      ]
     },
     "execution_count": 38,
     "metadata": {},
     "output_type": "execute_result"
    }
   ],
   "source": [
    "# We see there are some columns with null values. \n",
    "# Before we start pre-processing, let's find out which of the columns have maximum number of null values.\n",
    "\n",
    "data.count().sort_values()"
   ]
  },
  {
   "cell_type": "code",
   "execution_count": 86,
   "metadata": {},
   "outputs": [
    {
     "data": {
      "text/plain": [
       "(100000, 17)"
      ]
     },
     "execution_count": 86,
     "metadata": {},
     "output_type": "execute_result"
    }
   ],
   "source": [
    "# As we can see the first four columns have less than 60% data, we can ignore these four columns\n",
    "# We don't need the location column because we are going to find if it will rain in Australia or not\n",
    "# We are going to drop the date column too.\n",
    "\n",
    "df = data.drop(columns=['Sunshine','Evaporation','Cloud3pm','Cloud9am','Location','Date'],axis=1)\n",
    "df.shape"
   ]
  },
  {
   "cell_type": "code",
   "execution_count": 41,
   "metadata": {},
   "outputs": [
    {
     "data": {
      "text/html": [
       "<div>\n",
       "<style scoped>\n",
       "    .dataframe tbody tr th:only-of-type {\n",
       "        vertical-align: middle;\n",
       "    }\n",
       "\n",
       "    .dataframe tbody tr th {\n",
       "        vertical-align: top;\n",
       "    }\n",
       "\n",
       "    .dataframe thead th {\n",
       "        text-align: right;\n",
       "    }\n",
       "</style>\n",
       "<table border=\"1\" class=\"dataframe\">\n",
       "  <thead>\n",
       "    <tr style=\"text-align: right;\">\n",
       "      <th></th>\n",
       "      <th>count</th>\n",
       "      <th>mean</th>\n",
       "      <th>std</th>\n",
       "      <th>min</th>\n",
       "      <th>25%</th>\n",
       "      <th>50%</th>\n",
       "      <th>75%</th>\n",
       "      <th>max</th>\n",
       "    </tr>\n",
       "  </thead>\n",
       "  <tbody>\n",
       "    <tr>\n",
       "      <th>MinTemp</th>\n",
       "      <td>99564.0</td>\n",
       "      <td>12.190559</td>\n",
       "      <td>6.412850</td>\n",
       "      <td>-8.5</td>\n",
       "      <td>7.6</td>\n",
       "      <td>12.0</td>\n",
       "      <td>16.9</td>\n",
       "      <td>33.9</td>\n",
       "    </tr>\n",
       "    <tr>\n",
       "      <th>MaxTemp</th>\n",
       "      <td>99784.0</td>\n",
       "      <td>23.228404</td>\n",
       "      <td>7.117851</td>\n",
       "      <td>-4.8</td>\n",
       "      <td>17.9</td>\n",
       "      <td>22.6</td>\n",
       "      <td>28.2</td>\n",
       "      <td>47.3</td>\n",
       "    </tr>\n",
       "    <tr>\n",
       "      <th>Rainfall</th>\n",
       "      <td>99030.0</td>\n",
       "      <td>2.346882</td>\n",
       "      <td>8.357515</td>\n",
       "      <td>0.0</td>\n",
       "      <td>0.0</td>\n",
       "      <td>0.0</td>\n",
       "      <td>0.6</td>\n",
       "      <td>278.4</td>\n",
       "    </tr>\n",
       "    <tr>\n",
       "      <th>WindGustSpeed</th>\n",
       "      <td>93460.0</td>\n",
       "      <td>39.986818</td>\n",
       "      <td>13.589459</td>\n",
       "      <td>7.0</td>\n",
       "      <td>31.0</td>\n",
       "      <td>39.0</td>\n",
       "      <td>48.0</td>\n",
       "      <td>135.0</td>\n",
       "    </tr>\n",
       "    <tr>\n",
       "      <th>WindSpeed9am</th>\n",
       "      <td>99062.0</td>\n",
       "      <td>14.008045</td>\n",
       "      <td>8.898406</td>\n",
       "      <td>0.0</td>\n",
       "      <td>7.0</td>\n",
       "      <td>13.0</td>\n",
       "      <td>19.0</td>\n",
       "      <td>130.0</td>\n",
       "    </tr>\n",
       "    <tr>\n",
       "      <th>WindSpeed3pm</th>\n",
       "      <td>98146.0</td>\n",
       "      <td>18.623846</td>\n",
       "      <td>8.797918</td>\n",
       "      <td>0.0</td>\n",
       "      <td>13.0</td>\n",
       "      <td>19.0</td>\n",
       "      <td>24.0</td>\n",
       "      <td>87.0</td>\n",
       "    </tr>\n",
       "    <tr>\n",
       "      <th>Humidity9am</th>\n",
       "      <td>98762.0</td>\n",
       "      <td>68.845599</td>\n",
       "      <td>19.064754</td>\n",
       "      <td>1.0</td>\n",
       "      <td>57.0</td>\n",
       "      <td>70.0</td>\n",
       "      <td>83.0</td>\n",
       "      <td>100.0</td>\n",
       "    </tr>\n",
       "    <tr>\n",
       "      <th>Humidity3pm</th>\n",
       "      <td>97456.0</td>\n",
       "      <td>51.491155</td>\n",
       "      <td>20.824180</td>\n",
       "      <td>0.0</td>\n",
       "      <td>37.0</td>\n",
       "      <td>52.0</td>\n",
       "      <td>66.0</td>\n",
       "      <td>100.0</td>\n",
       "    </tr>\n",
       "    <tr>\n",
       "      <th>Pressure9am</th>\n",
       "      <td>90163.0</td>\n",
       "      <td>1017.631809</td>\n",
       "      <td>7.105450</td>\n",
       "      <td>980.5</td>\n",
       "      <td>1012.9</td>\n",
       "      <td>1017.6</td>\n",
       "      <td>1022.4</td>\n",
       "      <td>1041.0</td>\n",
       "    </tr>\n",
       "    <tr>\n",
       "      <th>Pressure3pm</th>\n",
       "      <td>90188.0</td>\n",
       "      <td>1015.242128</td>\n",
       "      <td>7.032167</td>\n",
       "      <td>977.1</td>\n",
       "      <td>1010.4</td>\n",
       "      <td>1015.2</td>\n",
       "      <td>1020.0</td>\n",
       "      <td>1039.6</td>\n",
       "    </tr>\n",
       "    <tr>\n",
       "      <th>Temp9am</th>\n",
       "      <td>99380.0</td>\n",
       "      <td>16.986879</td>\n",
       "      <td>6.500404</td>\n",
       "      <td>-7.2</td>\n",
       "      <td>12.3</td>\n",
       "      <td>16.7</td>\n",
       "      <td>21.6</td>\n",
       "      <td>39.4</td>\n",
       "    </tr>\n",
       "    <tr>\n",
       "      <th>Temp3pm</th>\n",
       "      <td>98090.0</td>\n",
       "      <td>21.685637</td>\n",
       "      <td>6.940969</td>\n",
       "      <td>-5.4</td>\n",
       "      <td>16.6</td>\n",
       "      <td>21.1</td>\n",
       "      <td>26.4</td>\n",
       "      <td>46.7</td>\n",
       "    </tr>\n",
       "  </tbody>\n",
       "</table>\n",
       "</div>"
      ],
      "text/plain": [
       "                 count         mean        std    min     25%     50%     75%  \\\n",
       "MinTemp        99564.0    12.190559   6.412850   -8.5     7.6    12.0    16.9   \n",
       "MaxTemp        99784.0    23.228404   7.117851   -4.8    17.9    22.6    28.2   \n",
       "Rainfall       99030.0     2.346882   8.357515    0.0     0.0     0.0     0.6   \n",
       "WindGustSpeed  93460.0    39.986818  13.589459    7.0    31.0    39.0    48.0   \n",
       "WindSpeed9am   99062.0    14.008045   8.898406    0.0     7.0    13.0    19.0   \n",
       "WindSpeed3pm   98146.0    18.623846   8.797918    0.0    13.0    19.0    24.0   \n",
       "Humidity9am    98762.0    68.845599  19.064754    1.0    57.0    70.0    83.0   \n",
       "Humidity3pm    97456.0    51.491155  20.824180    0.0    37.0    52.0    66.0   \n",
       "Pressure9am    90163.0  1017.631809   7.105450  980.5  1012.9  1017.6  1022.4   \n",
       "Pressure3pm    90188.0  1015.242128   7.032167  977.1  1010.4  1015.2  1020.0   \n",
       "Temp9am        99380.0    16.986879   6.500404   -7.2    12.3    16.7    21.6   \n",
       "Temp3pm        98090.0    21.685637   6.940969   -5.4    16.6    21.1    26.4   \n",
       "\n",
       "                  max  \n",
       "MinTemp          33.9  \n",
       "MaxTemp          47.3  \n",
       "Rainfall        278.4  \n",
       "WindGustSpeed   135.0  \n",
       "WindSpeed9am    130.0  \n",
       "WindSpeed3pm     87.0  \n",
       "Humidity9am     100.0  \n",
       "Humidity3pm     100.0  \n",
       "Pressure9am    1041.0  \n",
       "Pressure3pm    1039.6  \n",
       "Temp9am          39.4  \n",
       "Temp3pm          46.7  "
      ]
     },
     "execution_count": 41,
     "metadata": {},
     "output_type": "execute_result"
    }
   ],
   "source": [
    "df.describe().T"
   ]
  },
  {
   "cell_type": "markdown",
   "metadata": {},
   "source": [
    "### Observations :\n",
    "\n",
    "- There is temperature recorded **min(-4.8) and max(47.3) centi grade.**"
   ]
  },
  {
   "cell_type": "markdown",
   "metadata": {},
   "source": [
    "## Data Visualization :"
   ]
  },
  {
   "cell_type": "code",
   "execution_count": 42,
   "metadata": {},
   "outputs": [
    {
     "data": {
      "text/plain": [
       "No     77505\n",
       "Yes    22495\n",
       "Name: RainTomorrow, dtype: int64"
      ]
     },
     "execution_count": 42,
     "metadata": {},
     "output_type": "execute_result"
    }
   ],
   "source": [
    "df['RainTomorrow'].value_counts()"
   ]
  },
  {
   "cell_type": "code",
   "execution_count": 43,
   "metadata": {},
   "outputs": [
    {
     "data": {
      "image/png": "[encoded data removed]",
      "text/plain": [
       "<Figure size 432x288 with 1 Axes>"
      ]
     },
     "metadata": {},
     "output_type": "display_data"
    }
   ],
   "source": [
    "sns.countplot(x='RainTomorrow',data=df, palette='hls')\n",
    "plt.show()"
   ]
  },
  {
   "cell_type": "markdown",
   "metadata": {},
   "source": [
    "- There are 77505 no's and 22495 yes's in the outcome variables."
   ]
  },
  {
   "cell_type": "code",
   "execution_count": 46,
   "metadata": {},
   "outputs": [
    {
     "data": {
      "text/html": [
       "<div>\n",
       "<style scoped>\n",
       "    .dataframe tbody tr th:only-of-type {\n",
       "        vertical-align: middle;\n",
       "    }\n",
       "\n",
       "    .dataframe tbody tr th {\n",
       "        vertical-align: top;\n",
       "    }\n",
       "\n",
       "    .dataframe thead th {\n",
       "        text-align: right;\n",
       "    }\n",
       "</style>\n",
       "<table border=\"1\" class=\"dataframe\">\n",
       "  <thead>\n",
       "    <tr style=\"text-align: right;\">\n",
       "      <th></th>\n",
       "      <th>MinTemp</th>\n",
       "      <th>MaxTemp</th>\n",
       "      <th>Rainfall</th>\n",
       "      <th>WindGustSpeed</th>\n",
       "      <th>WindSpeed9am</th>\n",
       "      <th>WindSpeed3pm</th>\n",
       "      <th>Humidity9am</th>\n",
       "      <th>Humidity3pm</th>\n",
       "      <th>Pressure9am</th>\n",
       "      <th>Pressure3pm</th>\n",
       "      <th>Temp9am</th>\n",
       "      <th>Temp3pm</th>\n",
       "    </tr>\n",
       "    <tr>\n",
       "      <th>RainTomorrow</th>\n",
       "      <th></th>\n",
       "      <th></th>\n",
       "      <th></th>\n",
       "      <th></th>\n",
       "      <th></th>\n",
       "      <th></th>\n",
       "      <th></th>\n",
       "      <th></th>\n",
       "      <th></th>\n",
       "      <th></th>\n",
       "      <th></th>\n",
       "      <th></th>\n",
       "    </tr>\n",
       "  </thead>\n",
       "  <tbody>\n",
       "    <tr>\n",
       "      <th>No</th>\n",
       "      <td>11.898149</td>\n",
       "      <td>23.837724</td>\n",
       "      <td>1.272826</td>\n",
       "      <td>38.286901</td>\n",
       "      <td>13.568437</td>\n",
       "      <td>18.203155</td>\n",
       "      <td>66.217933</td>\n",
       "      <td>46.513838</td>\n",
       "      <td>1018.576315</td>\n",
       "      <td>1016.097264</td>\n",
       "      <td>17.074034</td>\n",
       "      <td>22.401886</td>\n",
       "    </tr>\n",
       "    <tr>\n",
       "      <th>Yes</th>\n",
       "      <td>13.199254</td>\n",
       "      <td>21.130796</td>\n",
       "      <td>6.101176</td>\n",
       "      <td>45.940171</td>\n",
       "      <td>15.524002</td>\n",
       "      <td>20.078485</td>\n",
       "      <td>77.955314</td>\n",
       "      <td>68.768811</td>\n",
       "      <td>1014.384159</td>\n",
       "      <td>1012.299409</td>\n",
       "      <td>16.685381</td>\n",
       "      <td>19.203592</td>\n",
       "    </tr>\n",
       "  </tbody>\n",
       "</table>\n",
       "</div>"
      ],
      "text/plain": [
       "                MinTemp    MaxTemp  Rainfall  WindGustSpeed  WindSpeed9am  \\\n",
       "RainTomorrow                                                                \n",
       "No            11.898149  23.837724  1.272826      38.286901     13.568437   \n",
       "Yes           13.199254  21.130796  6.101176      45.940171     15.524002   \n",
       "\n",
       "              WindSpeed3pm  Humidity9am  Humidity3pm  Pressure9am  \\\n",
       "RainTomorrow                                                        \n",
       "No               18.203155    66.217933    46.513838  1018.576315   \n",
       "Yes              20.078485    77.955314    68.768811  1014.384159   \n",
       "\n",
       "              Pressure3pm    Temp9am    Temp3pm  \n",
       "RainTomorrow                                     \n",
       "No            1016.097264  17.074034  22.401886  \n",
       "Yes           1012.299409  16.685381  19.203592  "
      ]
     },
     "execution_count": 46,
     "metadata": {},
     "output_type": "execute_result"
    }
   ],
   "source": [
    "# Let's get a sense of the numbers across the two classes\n",
    "\n",
    "df.groupby('RainTomorrow').mean()"
   ]
  },
  {
   "cell_type": "markdown",
   "metadata": {},
   "source": [
    "## Observations :\n",
    "\n",
    "- To Rain Tomorrow the average **Humidity3pm** is more compared to *not to rain Humidity3pm.* <br>\n",
    "- here,The MaxTemp is less for the RainTomorrow means if the recorded max temperature is leass then its also favouring to rain.<br>\n"
   ]
  },
  {
   "cell_type": "code",
   "execution_count": 150,
   "metadata": {},
   "outputs": [
    {
     "data": {
      "text/plain": [
       "Index(['MinTemp', 'MaxTemp', 'Rainfall', 'WindGustDir', 'WindGustSpeed',\n",
       "       'WindDir9am', 'WindDir3pm', 'WindSpeed9am', 'WindSpeed3pm',\n",
       "       'Humidity9am', 'Humidity3pm', 'Pressure9am', 'Pressure3pm', 'Temp9am',\n",
       "       'Temp3pm', 'RainToday', 'RainTomorrow'],\n",
       "      dtype='object')"
      ]
     },
     "execution_count": 150,
     "metadata": {},
     "output_type": "execute_result"
    }
   ],
   "source": [
    "df.columns"
   ]
  },
  {
   "cell_type": "code",
   "execution_count": 151,
   "metadata": {},
   "outputs": [
    {
     "data": {
      "text/plain": [
       "(79413, 17)"
      ]
     },
     "execution_count": 151,
     "metadata": {},
     "output_type": "execute_result"
    }
   ],
   "source": [
    "#Let us get rid of all null values in df\n",
    "\n",
    "df = df.dropna(how='any')\n",
    "df.shape"
   ]
  },
  {
   "cell_type": "code",
   "execution_count": 219,
   "metadata": {},
   "outputs": [
    {
     "data": {
      "text/plain": [
       "20587"
      ]
     },
     "execution_count": 219,
     "metadata": {},
     "output_type": "execute_result"
    }
   ],
   "source": [
    "100000 - 79413\n"
   ]
  },
  {
   "cell_type": "code",
   "execution_count": 152,
   "metadata": {},
   "outputs": [
    {
     "name": "stdout",
     "output_type": "stream",
     "text": [
      "(79413, 5)\n",
      "(79413, 12)\n"
     ]
    }
   ],
   "source": [
    "categorical_data = df.select_dtypes(include='category')\n",
    "numerical_data = df.select_dtypes(include=('int64','float64'))\n",
    "\n",
    "print(categorical_data.shape)\n",
    "print(numerical_data.shape)"
   ]
  },
  {
   "cell_type": "code",
   "execution_count": 153,
   "metadata": {},
   "outputs": [
    {
     "data": {
      "text/plain": [
       "Text(0,0.5,'Frequency of Rain Tomorrow Yes or No')"
      ]
     },
     "execution_count": 153,
     "metadata": {},
     "output_type": "execute_result"
    },
    {
     "data": {
      "image/png": "[encoded data removed]",
      "text/plain": [
       "<Figure size 432x288 with 1 Axes>"
      ]
     },
     "metadata": {},
     "output_type": "display_data"
    }
   ],
   "source": [
    "#The direction of the strongest wind gust in the 24 hours to midnight\n",
    "\n",
    "%matplotlib inline\n",
    "pd.crosstab(categorical_data.WindGustDir,categorical_data.RainTomorrow).plot(kind='bar')\n",
    "plt.title('Rain Frequency with direction of the wind')\n",
    "plt.xlabel('Directions of the wind')\n",
    "plt.ylabel('Frequency of Rain Tomorrow Yes or No')"
   ]
  },
  {
   "cell_type": "code",
   "execution_count": 154,
   "metadata": {},
   "outputs": [
    {
     "data": {
      "text/plain": [
       "Text(0,0.5,'Frequency of Rain Tomorrow Yes or No')"
      ]
     },
     "execution_count": 154,
     "metadata": {},
     "output_type": "execute_result"
    },
    {
     "data": {
      "image/png": "[encoded data removed]",
      "text/plain": [
       "<Figure size 432x288 with 1 Axes>"
      ]
     },
     "metadata": {},
     "output_type": "display_data"
    }
   ],
   "source": [
    "%matplotlib inline\n",
    "pd.crosstab(categorical_data.WindDir9am,categorical_data.RainTomorrow).plot(kind='bar')\n",
    "plt.title('Rain Frequency with direction of the wind')\n",
    "plt.xlabel('Directions of the wind at 9am')\n",
    "plt.ylabel('Frequency of Rain Tomorrow Yes or No')"
   ]
  },
  {
   "cell_type": "code",
   "execution_count": 155,
   "metadata": {},
   "outputs": [
    {
     "data": {
      "text/plain": [
       "Text(0,0.5,'Frequency of Rain Tomorrow Yes or No')"
      ]
     },
     "execution_count": 155,
     "metadata": {},
     "output_type": "execute_result"
    },
    {
     "data": {
      "image/png": "[encoded data removed]",
      "text/plain": [
       "<Figure size 432x288 with 1 Axes>"
      ]
     },
     "metadata": {},
     "output_type": "display_data"
    }
   ],
   "source": [
    "%matplotlib inline\n",
    "pd.crosstab(categorical_data.WindDir3pm,categorical_data.RainTomorrow).plot(kind='bar')\n",
    "plt.title('Rain Frequency with direction of the wind')\n",
    "plt.xlabel('Directions of the wind at 3pm')\n",
    "plt.ylabel('Frequency of Rain Tomorrow Yes or No')"
   ]
  },
  {
   "cell_type": "code",
   "execution_count": 156,
   "metadata": {},
   "outputs": [
    {
     "data": {
      "text/plain": [
       "Text(0,0.5,'Frequency of Rain Tomorrow Yes or No')"
      ]
     },
     "execution_count": 156,
     "metadata": {},
     "output_type": "execute_result"
    },
    {
     "data": {
      "image/png": "[encoded data removed]",
      "text/plain": [
       "<Figure size 432x288 with 1 Axes>"
      ]
     },
     "metadata": {},
     "output_type": "display_data"
    }
   ],
   "source": [
    "%matplotlib inline\n",
    "pd.crosstab(categorical_data.RainToday,categorical_data.RainTomorrow).plot(kind='bar')\n",
    "plt.title('Rain Frequency with present day')\n",
    "plt.xlabel('Rains Today')\n",
    "plt.ylabel('Frequency of Rain Tomorrow Yes or No')"
   ]
  },
  {
   "cell_type": "code",
   "execution_count": 157,
   "metadata": {
    "scrolled": true
   },
   "outputs": [
    {
     "name": "stdout",
     "output_type": "stream",
     "text": [
      "['E' 'ENE' 'ESE' 'N' 'NE' 'NNE' 'NNW' 'NW' 'S' 'SE' 'SSE' 'SSW' 'SW' 'W'\n",
      " 'WNW' 'WSW']\n",
      "['E' 'ENE' 'ESE' 'N' 'NE' 'NNE' 'NNW' 'NW' 'S' 'SE' 'SSE' 'SSW' 'SW' 'W'\n",
      " 'WNW' 'WSW']\n",
      "['E' 'ENE' 'ESE' 'N' 'NE' 'NNE' 'NNW' 'NW' 'S' 'SE' 'SSE' 'SSW' 'SW' 'W'\n",
      " 'WNW' 'WSW']\n"
     ]
    }
   ],
   "source": [
    "# simply change yes/no to 1/0 for RainToday and RainTomorrow\n",
    "\n",
    "categorical_data['RainToday'].replace({'No': 0, 'Yes': 1},inplace = True)\n",
    "categorical_data['RainTomorrow'].replace({'No': 0, 'Yes': 1},inplace = True)\n",
    "\n",
    "#See unique values and convert them to int using pd.getDummies()\n",
    "categorical_columns = ['WindGustDir', 'WindDir3pm', 'WindDir9am']\n",
    "for col in categorical_columns:\n",
    "    print(np.unique(categorical_data[col]))\n",
    "# transform the categorical columns\n",
    "categorical_data = pd.get_dummies(categorical_data, columns=categorical_columns)"
   ]
  },
  {
   "cell_type": "code",
   "execution_count": 158,
   "metadata": {},
   "outputs": [],
   "source": [
    "y = categorical_data.RainTomorrow"
   ]
  },
  {
   "cell_type": "code",
   "execution_count": 159,
   "metadata": {},
   "outputs": [],
   "source": [
    "from sklearn.feature_selection import chi2\n",
    "\n",
    "\n",
    "chi2, pval = chi2(categorical_data,y)"
   ]
  },
  {
   "cell_type": "code",
   "execution_count": 160,
   "metadata": {},
   "outputs": [],
   "source": [
    "cat_var = pd.DataFrame(pval < 0.05,categorical_data.columns)"
   ]
  },
  {
   "cell_type": "code",
   "execution_count": 161,
   "metadata": {},
   "outputs": [
    {
     "data": {
      "text/plain": [
       "RangeIndex(start=0, stop=1, step=1)"
      ]
     },
     "execution_count": 161,
     "metadata": {},
     "output_type": "execute_result"
    }
   ],
   "source": [
    "cat_var.columns"
   ]
  },
  {
   "cell_type": "code",
   "execution_count": 162,
   "metadata": {},
   "outputs": [
    {
     "data": {
      "text/plain": [
       "pandas.core.frame.DataFrame"
      ]
     },
     "execution_count": 162,
     "metadata": {},
     "output_type": "execute_result"
    }
   ],
   "source": [
    "type(cat_var)"
   ]
  },
  {
   "cell_type": "code",
   "execution_count": 163,
   "metadata": {},
   "outputs": [
    {
     "data": {
      "text/plain": [
       "(array([ 0,  1,  2,  3,  4,  5,  6,  7,  8,  9, 11, 12, 14, 15, 16, 17, 18,\n",
       "        19, 20, 21, 22, 23, 24, 25, 26, 27, 28, 30, 31, 32, 34, 35, 36, 37,\n",
       "        38, 39, 40, 41, 42, 43, 44, 47, 48, 49], dtype=int64),)"
      ]
     },
     "execution_count": 163,
     "metadata": {},
     "output_type": "execute_result"
    }
   ],
   "source": [
    "np.where(cat_var[0] == True)"
   ]
  },
  {
   "cell_type": "code",
   "execution_count": 164,
   "metadata": {},
   "outputs": [],
   "source": [
    "select_indices = list(np.where(cat_var[0] == True)[0])\n",
    "\n",
    "CAT = cat_var.iloc[select_indices]"
   ]
  },
  {
   "cell_type": "code",
   "execution_count": 165,
   "metadata": {},
   "outputs": [],
   "source": [
    "categorical = CAT.index"
   ]
  },
  {
   "cell_type": "code",
   "execution_count": 166,
   "metadata": {},
   "outputs": [
    {
     "data": {
      "text/plain": [
       "44"
      ]
     },
     "execution_count": 166,
     "metadata": {},
     "output_type": "execute_result"
    }
   ],
   "source": [
    "len(categorical)"
   ]
  },
  {
   "cell_type": "code",
   "execution_count": 167,
   "metadata": {},
   "outputs": [
    {
     "data": {
      "text/plain": [
       "(79413, 50)"
      ]
     },
     "execution_count": 167,
     "metadata": {},
     "output_type": "execute_result"
    }
   ],
   "source": [
    "categorical_data.shape"
   ]
  },
  {
   "cell_type": "code",
   "execution_count": 168,
   "metadata": {},
   "outputs": [],
   "source": [
    "data_vars=categorical_data.columns.values.tolist()\n",
    "to_keep=[i for i in data_vars if i in categorical]"
   ]
  },
  {
   "cell_type": "code",
   "execution_count": 169,
   "metadata": {},
   "outputs": [
    {
     "data": {
      "text/plain": [
       "44"
      ]
     },
     "execution_count": 169,
     "metadata": {},
     "output_type": "execute_result"
    }
   ],
   "source": [
    "len(to_keep)"
   ]
  },
  {
   "cell_type": "code",
   "execution_count": 170,
   "metadata": {},
   "outputs": [
    {
     "data": {
      "text/plain": [
       "array(['RainToday', 'RainTomorrow', 'WindGustDir_E', 'WindGustDir_ENE',\n",
       "       'WindGustDir_ESE', 'WindGustDir_N', 'WindGustDir_NE',\n",
       "       'WindGustDir_NNE', 'WindGustDir_NNW', 'WindGustDir_NW',\n",
       "       'WindGustDir_SE', 'WindGustDir_SSE', 'WindGustDir_SW',\n",
       "       'WindGustDir_W', 'WindGustDir_WNW', 'WindGustDir_WSW',\n",
       "       'WindDir3pm_E', 'WindDir3pm_ENE', 'WindDir3pm_ESE', 'WindDir3pm_N',\n",
       "       'WindDir3pm_NE', 'WindDir3pm_NNE', 'WindDir3pm_NNW',\n",
       "       'WindDir3pm_NW', 'WindDir3pm_S', 'WindDir3pm_SE', 'WindDir3pm_SSE',\n",
       "       'WindDir3pm_SW', 'WindDir3pm_W', 'WindDir3pm_WNW', 'WindDir9am_E',\n",
       "       'WindDir9am_ENE', 'WindDir9am_ESE', 'WindDir9am_N',\n",
       "       'WindDir9am_NE', 'WindDir9am_NNE', 'WindDir9am_NNW',\n",
       "       'WindDir9am_NW', 'WindDir9am_S', 'WindDir9am_SE', 'WindDir9am_SSE',\n",
       "       'WindDir9am_W', 'WindDir9am_WNW', 'WindDir9am_WSW'], dtype=object)"
      ]
     },
     "execution_count": 170,
     "metadata": {},
     "output_type": "execute_result"
    }
   ],
   "source": [
    "df1=categorical_data[to_keep]\n",
    "df1.columns.values"
   ]
  },
  {
   "cell_type": "code",
   "execution_count": 171,
   "metadata": {},
   "outputs": [],
   "source": [
    "df1.drop(['RainTomorrow'],axis = 1, inplace = True)"
   ]
  },
  {
   "cell_type": "code",
   "execution_count": null,
   "metadata": {},
   "outputs": [],
   "source": []
  },
  {
   "cell_type": "code",
   "execution_count": 178,
   "metadata": {},
   "outputs": [],
   "source": [
    "# Numerical Data\n",
    "\n",
    "corr = numerical_data.corr()\n",
    "corr\n",
    "numerical_data = df.select_dtypes(include=('int64','float64'))"
   ]
  },
  {
   "cell_type": "code",
   "execution_count": 179,
   "metadata": {},
   "outputs": [
    {
     "data": {
      "text/html": [
       "<div>\n",
       "<style scoped>\n",
       "    .dataframe tbody tr th:only-of-type {\n",
       "        vertical-align: middle;\n",
       "    }\n",
       "\n",
       "    .dataframe tbody tr th {\n",
       "        vertical-align: top;\n",
       "    }\n",
       "\n",
       "    .dataframe thead th {\n",
       "        text-align: right;\n",
       "    }\n",
       "</style>\n",
       "<table border=\"1\" class=\"dataframe\">\n",
       "  <thead>\n",
       "    <tr style=\"text-align: right;\">\n",
       "      <th></th>\n",
       "      <th>columns</th>\n",
       "      <th>vif</th>\n",
       "    </tr>\n",
       "  </thead>\n",
       "  <tbody>\n",
       "    <tr>\n",
       "      <th>0</th>\n",
       "      <td>MinTemp</td>\n",
       "      <td>43.725823</td>\n",
       "    </tr>\n",
       "    <tr>\n",
       "      <th>1</th>\n",
       "      <td>MaxTemp</td>\n",
       "      <td>531.538621</td>\n",
       "    </tr>\n",
       "    <tr>\n",
       "      <th>2</th>\n",
       "      <td>Rainfall</td>\n",
       "      <td>1.238686</td>\n",
       "    </tr>\n",
       "    <tr>\n",
       "      <th>3</th>\n",
       "      <td>WindGustSpeed</td>\n",
       "      <td>24.481809</td>\n",
       "    </tr>\n",
       "    <tr>\n",
       "      <th>4</th>\n",
       "      <td>WindSpeed9am</td>\n",
       "      <td>7.701307</td>\n",
       "    </tr>\n",
       "    <tr>\n",
       "      <th>5</th>\n",
       "      <td>WindSpeed3pm</td>\n",
       "      <td>12.486349</td>\n",
       "    </tr>\n",
       "    <tr>\n",
       "      <th>6</th>\n",
       "      <td>Humidity9am</td>\n",
       "      <td>55.836964</td>\n",
       "    </tr>\n",
       "    <tr>\n",
       "      <th>7</th>\n",
       "      <td>Humidity3pm</td>\n",
       "      <td>44.088102</td>\n",
       "    </tr>\n",
       "    <tr>\n",
       "      <th>8</th>\n",
       "      <td>Pressure9am</td>\n",
       "      <td>378580.909896</td>\n",
       "    </tr>\n",
       "    <tr>\n",
       "      <th>9</th>\n",
       "      <td>Pressure3pm</td>\n",
       "      <td>375915.847371</td>\n",
       "    </tr>\n",
       "    <tr>\n",
       "      <th>10</th>\n",
       "      <td>Temp9am</td>\n",
       "      <td>184.688041</td>\n",
       "    </tr>\n",
       "    <tr>\n",
       "      <th>11</th>\n",
       "      <td>Temp3pm</td>\n",
       "      <td>592.420160</td>\n",
       "    </tr>\n",
       "  </tbody>\n",
       "</table>\n",
       "</div>"
      ],
      "text/plain": [
       "          columns            vif\n",
       "0         MinTemp      43.725823\n",
       "1         MaxTemp     531.538621\n",
       "2        Rainfall       1.238686\n",
       "3   WindGustSpeed      24.481809\n",
       "4    WindSpeed9am       7.701307\n",
       "5    WindSpeed3pm      12.486349\n",
       "6     Humidity9am      55.836964\n",
       "7     Humidity3pm      44.088102\n",
       "8     Pressure9am  378580.909896\n",
       "9     Pressure3pm  375915.847371\n",
       "10        Temp9am     184.688041\n",
       "11        Temp3pm     592.420160"
      ]
     },
     "execution_count": 179,
     "metadata": {},
     "output_type": "execute_result"
    }
   ],
   "source": [
    "from statsmodels.stats.outliers_influence import variance_inflation_factor\n",
    "\n",
    "def VIFfunc(x):\n",
    "    data_mat = x.as_matrix()\n",
    "    vif = [variance_inflation_factor(data_mat,i) for i in range(data_mat.shape[1])]\n",
    "    vif_factors = pd.DataFrame()\n",
    "    vif_factors['columns'] = x.columns\n",
    "    vif_factors['vif'] = vif\n",
    "    return vif_factors\n",
    "\n",
    "VIFfunc(numerical_data)"
   ]
  },
  {
   "cell_type": "markdown",
   "metadata": {},
   "source": [
    "- Here, There is high Variance between Pressure9am and Pressure3pm so, droping Pressure9am column"
   ]
  },
  {
   "cell_type": "code",
   "execution_count": 180,
   "metadata": {},
   "outputs": [],
   "source": [
    "numerical_data.drop(['Pressure9am'],axis = 1, inplace = True)"
   ]
  },
  {
   "cell_type": "code",
   "execution_count": 181,
   "metadata": {},
   "outputs": [
    {
     "data": {
      "text/html": [
       "<div>\n",
       "<style scoped>\n",
       "    .dataframe tbody tr th:only-of-type {\n",
       "        vertical-align: middle;\n",
       "    }\n",
       "\n",
       "    .dataframe tbody tr th {\n",
       "        vertical-align: top;\n",
       "    }\n",
       "\n",
       "    .dataframe thead th {\n",
       "        text-align: right;\n",
       "    }\n",
       "</style>\n",
       "<table border=\"1\" class=\"dataframe\">\n",
       "  <thead>\n",
       "    <tr style=\"text-align: right;\">\n",
       "      <th></th>\n",
       "      <th>columns</th>\n",
       "      <th>vif</th>\n",
       "    </tr>\n",
       "  </thead>\n",
       "  <tbody>\n",
       "    <tr>\n",
       "      <th>0</th>\n",
       "      <td>MinTemp</td>\n",
       "      <td>42.450235</td>\n",
       "    </tr>\n",
       "    <tr>\n",
       "      <th>1</th>\n",
       "      <td>MaxTemp</td>\n",
       "      <td>528.126893</td>\n",
       "    </tr>\n",
       "    <tr>\n",
       "      <th>2</th>\n",
       "      <td>Rainfall</td>\n",
       "      <td>1.231244</td>\n",
       "    </tr>\n",
       "    <tr>\n",
       "      <th>3</th>\n",
       "      <td>WindGustSpeed</td>\n",
       "      <td>24.439054</td>\n",
       "    </tr>\n",
       "    <tr>\n",
       "      <th>4</th>\n",
       "      <td>WindSpeed9am</td>\n",
       "      <td>7.678150</td>\n",
       "    </tr>\n",
       "    <tr>\n",
       "      <th>5</th>\n",
       "      <td>WindSpeed3pm</td>\n",
       "      <td>12.481724</td>\n",
       "    </tr>\n",
       "    <tr>\n",
       "      <th>6</th>\n",
       "      <td>Humidity9am</td>\n",
       "      <td>55.126140</td>\n",
       "    </tr>\n",
       "    <tr>\n",
       "      <th>7</th>\n",
       "      <td>Humidity3pm</td>\n",
       "      <td>42.049558</td>\n",
       "    </tr>\n",
       "    <tr>\n",
       "      <th>8</th>\n",
       "      <td>Pressure3pm</td>\n",
       "      <td>107.624349</td>\n",
       "    </tr>\n",
       "    <tr>\n",
       "      <th>9</th>\n",
       "      <td>Temp9am</td>\n",
       "      <td>182.062413</td>\n",
       "    </tr>\n",
       "    <tr>\n",
       "      <th>10</th>\n",
       "      <td>Temp3pm</td>\n",
       "      <td>548.318370</td>\n",
       "    </tr>\n",
       "  </tbody>\n",
       "</table>\n",
       "</div>"
      ],
      "text/plain": [
       "          columns         vif\n",
       "0         MinTemp   42.450235\n",
       "1         MaxTemp  528.126893\n",
       "2        Rainfall    1.231244\n",
       "3   WindGustSpeed   24.439054\n",
       "4    WindSpeed9am    7.678150\n",
       "5    WindSpeed3pm   12.481724\n",
       "6     Humidity9am   55.126140\n",
       "7     Humidity3pm   42.049558\n",
       "8     Pressure3pm  107.624349\n",
       "9         Temp9am  182.062413\n",
       "10        Temp3pm  548.318370"
      ]
     },
     "execution_count": 181,
     "metadata": {},
     "output_type": "execute_result"
    }
   ],
   "source": [
    "VIFfunc(numerical_data)"
   ]
  },
  {
   "cell_type": "code",
   "execution_count": 182,
   "metadata": {},
   "outputs": [
    {
     "data": {
      "text/plain": [
       "(79413, 11)"
      ]
     },
     "execution_count": 182,
     "metadata": {},
     "output_type": "execute_result"
    }
   ],
   "source": [
    "numerical_data.shape"
   ]
  },
  {
   "cell_type": "code",
   "execution_count": 183,
   "metadata": {},
   "outputs": [],
   "source": [
    "numerical_data.drop(['Temp3pm'],axis = 1, inplace = True)"
   ]
  },
  {
   "cell_type": "code",
   "execution_count": 184,
   "metadata": {},
   "outputs": [
    {
     "data": {
      "text/html": [
       "<div>\n",
       "<style scoped>\n",
       "    .dataframe tbody tr th:only-of-type {\n",
       "        vertical-align: middle;\n",
       "    }\n",
       "\n",
       "    .dataframe tbody tr th {\n",
       "        vertical-align: top;\n",
       "    }\n",
       "\n",
       "    .dataframe thead th {\n",
       "        text-align: right;\n",
       "    }\n",
       "</style>\n",
       "<table border=\"1\" class=\"dataframe\">\n",
       "  <thead>\n",
       "    <tr style=\"text-align: right;\">\n",
       "      <th></th>\n",
       "      <th>columns</th>\n",
       "      <th>vif</th>\n",
       "    </tr>\n",
       "  </thead>\n",
       "  <tbody>\n",
       "    <tr>\n",
       "      <th>0</th>\n",
       "      <td>MinTemp</td>\n",
       "      <td>42.225966</td>\n",
       "    </tr>\n",
       "    <tr>\n",
       "      <th>1</th>\n",
       "      <td>MaxTemp</td>\n",
       "      <td>143.125921</td>\n",
       "    </tr>\n",
       "    <tr>\n",
       "      <th>2</th>\n",
       "      <td>Rainfall</td>\n",
       "      <td>1.228312</td>\n",
       "    </tr>\n",
       "    <tr>\n",
       "      <th>3</th>\n",
       "      <td>WindGustSpeed</td>\n",
       "      <td>23.639555</td>\n",
       "    </tr>\n",
       "    <tr>\n",
       "      <th>4</th>\n",
       "      <td>WindSpeed9am</td>\n",
       "      <td>7.644492</td>\n",
       "    </tr>\n",
       "    <tr>\n",
       "      <th>5</th>\n",
       "      <td>WindSpeed3pm</td>\n",
       "      <td>12.477637</td>\n",
       "    </tr>\n",
       "    <tr>\n",
       "      <th>6</th>\n",
       "      <td>Humidity9am</td>\n",
       "      <td>48.925687</td>\n",
       "    </tr>\n",
       "    <tr>\n",
       "      <th>7</th>\n",
       "      <td>Humidity3pm</td>\n",
       "      <td>30.009094</td>\n",
       "    </tr>\n",
       "    <tr>\n",
       "      <th>8</th>\n",
       "      <td>Pressure3pm</td>\n",
       "      <td>103.048992</td>\n",
       "    </tr>\n",
       "    <tr>\n",
       "      <th>9</th>\n",
       "      <td>Temp9am</td>\n",
       "      <td>174.780662</td>\n",
       "    </tr>\n",
       "  </tbody>\n",
       "</table>\n",
       "</div>"
      ],
      "text/plain": [
       "         columns         vif\n",
       "0        MinTemp   42.225966\n",
       "1        MaxTemp  143.125921\n",
       "2       Rainfall    1.228312\n",
       "3  WindGustSpeed   23.639555\n",
       "4   WindSpeed9am    7.644492\n",
       "5   WindSpeed3pm   12.477637\n",
       "6    Humidity9am   48.925687\n",
       "7    Humidity3pm   30.009094\n",
       "8    Pressure3pm  103.048992\n",
       "9        Temp9am  174.780662"
      ]
     },
     "execution_count": 184,
     "metadata": {},
     "output_type": "execute_result"
    }
   ],
   "source": [
    "VIFfunc(numerical_data)"
   ]
  },
  {
   "cell_type": "code",
   "execution_count": 185,
   "metadata": {},
   "outputs": [],
   "source": [
    "numerical_data.drop(['Temp9am'],axis = 1, inplace = True)"
   ]
  },
  {
   "cell_type": "code",
   "execution_count": 186,
   "metadata": {},
   "outputs": [
    {
     "data": {
      "text/html": [
       "<div>\n",
       "<style scoped>\n",
       "    .dataframe tbody tr th:only-of-type {\n",
       "        vertical-align: middle;\n",
       "    }\n",
       "\n",
       "    .dataframe tbody tr th {\n",
       "        vertical-align: top;\n",
       "    }\n",
       "\n",
       "    .dataframe thead th {\n",
       "        text-align: right;\n",
       "    }\n",
       "</style>\n",
       "<table border=\"1\" class=\"dataframe\">\n",
       "  <thead>\n",
       "    <tr style=\"text-align: right;\">\n",
       "      <th></th>\n",
       "      <th>columns</th>\n",
       "      <th>vif</th>\n",
       "    </tr>\n",
       "  </thead>\n",
       "  <tbody>\n",
       "    <tr>\n",
       "      <th>0</th>\n",
       "      <td>MinTemp</td>\n",
       "      <td>21.730070</td>\n",
       "    </tr>\n",
       "    <tr>\n",
       "      <th>1</th>\n",
       "      <td>MaxTemp</td>\n",
       "      <td>66.958369</td>\n",
       "    </tr>\n",
       "    <tr>\n",
       "      <th>2</th>\n",
       "      <td>Rainfall</td>\n",
       "      <td>1.226025</td>\n",
       "    </tr>\n",
       "    <tr>\n",
       "      <th>3</th>\n",
       "      <td>WindGustSpeed</td>\n",
       "      <td>23.247201</td>\n",
       "    </tr>\n",
       "    <tr>\n",
       "      <th>4</th>\n",
       "      <td>WindSpeed9am</td>\n",
       "      <td>7.557954</td>\n",
       "    </tr>\n",
       "    <tr>\n",
       "      <th>5</th>\n",
       "      <td>WindSpeed3pm</td>\n",
       "      <td>11.963621</td>\n",
       "    </tr>\n",
       "    <tr>\n",
       "      <th>6</th>\n",
       "      <td>Humidity9am</td>\n",
       "      <td>31.901943</td>\n",
       "    </tr>\n",
       "    <tr>\n",
       "      <th>7</th>\n",
       "      <td>Humidity3pm</td>\n",
       "      <td>23.213569</td>\n",
       "    </tr>\n",
       "    <tr>\n",
       "      <th>8</th>\n",
       "      <td>Pressure3pm</td>\n",
       "      <td>100.028214</td>\n",
       "    </tr>\n",
       "  </tbody>\n",
       "</table>\n",
       "</div>"
      ],
      "text/plain": [
       "         columns         vif\n",
       "0        MinTemp   21.730070\n",
       "1        MaxTemp   66.958369\n",
       "2       Rainfall    1.226025\n",
       "3  WindGustSpeed   23.247201\n",
       "4   WindSpeed9am    7.557954\n",
       "5   WindSpeed3pm   11.963621\n",
       "6    Humidity9am   31.901943\n",
       "7    Humidity3pm   23.213569\n",
       "8    Pressure3pm  100.028214"
      ]
     },
     "execution_count": 186,
     "metadata": {},
     "output_type": "execute_result"
    }
   ],
   "source": [
    "VIFfunc(numerical_data)"
   ]
  },
  {
   "cell_type": "code",
   "execution_count": 187,
   "metadata": {},
   "outputs": [],
   "source": [
    "numerical_data.drop(['Pressure3pm'],axis = 1, inplace = True)"
   ]
  },
  {
   "cell_type": "code",
   "execution_count": 188,
   "metadata": {},
   "outputs": [
    {
     "data": {
      "text/html": [
       "<div>\n",
       "<style scoped>\n",
       "    .dataframe tbody tr th:only-of-type {\n",
       "        vertical-align: middle;\n",
       "    }\n",
       "\n",
       "    .dataframe tbody tr th {\n",
       "        vertical-align: top;\n",
       "    }\n",
       "\n",
       "    .dataframe thead th {\n",
       "        text-align: right;\n",
       "    }\n",
       "</style>\n",
       "<table border=\"1\" class=\"dataframe\">\n",
       "  <thead>\n",
       "    <tr style=\"text-align: right;\">\n",
       "      <th></th>\n",
       "      <th>columns</th>\n",
       "      <th>vif</th>\n",
       "    </tr>\n",
       "  </thead>\n",
       "  <tbody>\n",
       "    <tr>\n",
       "      <th>0</th>\n",
       "      <td>MinTemp</td>\n",
       "      <td>15.407957</td>\n",
       "    </tr>\n",
       "    <tr>\n",
       "      <th>1</th>\n",
       "      <td>MaxTemp</td>\n",
       "      <td>24.965807</td>\n",
       "    </tr>\n",
       "    <tr>\n",
       "      <th>2</th>\n",
       "      <td>Rainfall</td>\n",
       "      <td>1.198280</td>\n",
       "    </tr>\n",
       "    <tr>\n",
       "      <th>3</th>\n",
       "      <td>WindGustSpeed</td>\n",
       "      <td>22.244440</td>\n",
       "    </tr>\n",
       "    <tr>\n",
       "      <th>4</th>\n",
       "      <td>WindSpeed9am</td>\n",
       "      <td>7.012036</td>\n",
       "    </tr>\n",
       "    <tr>\n",
       "      <th>5</th>\n",
       "      <td>WindSpeed3pm</td>\n",
       "      <td>11.963123</td>\n",
       "    </tr>\n",
       "    <tr>\n",
       "      <th>6</th>\n",
       "      <td>Humidity9am</td>\n",
       "      <td>24.509396</td>\n",
       "    </tr>\n",
       "    <tr>\n",
       "      <th>7</th>\n",
       "      <td>Humidity3pm</td>\n",
       "      <td>19.469679</td>\n",
       "    </tr>\n",
       "  </tbody>\n",
       "</table>\n",
       "</div>"
      ],
      "text/plain": [
       "         columns        vif\n",
       "0        MinTemp  15.407957\n",
       "1        MaxTemp  24.965807\n",
       "2       Rainfall   1.198280\n",
       "3  WindGustSpeed  22.244440\n",
       "4   WindSpeed9am   7.012036\n",
       "5   WindSpeed3pm  11.963123\n",
       "6    Humidity9am  24.509396\n",
       "7    Humidity3pm  19.469679"
      ]
     },
     "execution_count": 188,
     "metadata": {},
     "output_type": "execute_result"
    }
   ],
   "source": [
    "VIFfunc(numerical_data)"
   ]
  },
  {
   "cell_type": "code",
   "execution_count": 189,
   "metadata": {},
   "outputs": [],
   "source": [
    "numerical_data.drop(['MaxTemp'],axis = 1, inplace = True)"
   ]
  },
  {
   "cell_type": "code",
   "execution_count": 190,
   "metadata": {},
   "outputs": [
    {
     "data": {
      "text/html": [
       "<div>\n",
       "<style scoped>\n",
       "    .dataframe tbody tr th:only-of-type {\n",
       "        vertical-align: middle;\n",
       "    }\n",
       "\n",
       "    .dataframe tbody tr th {\n",
       "        vertical-align: top;\n",
       "    }\n",
       "\n",
       "    .dataframe thead th {\n",
       "        text-align: right;\n",
       "    }\n",
       "</style>\n",
       "<table border=\"1\" class=\"dataframe\">\n",
       "  <thead>\n",
       "    <tr style=\"text-align: right;\">\n",
       "      <th></th>\n",
       "      <th>columns</th>\n",
       "      <th>vif</th>\n",
       "    </tr>\n",
       "  </thead>\n",
       "  <tbody>\n",
       "    <tr>\n",
       "      <th>0</th>\n",
       "      <td>MinTemp</td>\n",
       "      <td>4.647624</td>\n",
       "    </tr>\n",
       "    <tr>\n",
       "      <th>1</th>\n",
       "      <td>Rainfall</td>\n",
       "      <td>1.141151</td>\n",
       "    </tr>\n",
       "    <tr>\n",
       "      <th>2</th>\n",
       "      <td>WindGustSpeed</td>\n",
       "      <td>19.935058</td>\n",
       "    </tr>\n",
       "    <tr>\n",
       "      <th>3</th>\n",
       "      <td>WindSpeed9am</td>\n",
       "      <td>6.988526</td>\n",
       "    </tr>\n",
       "    <tr>\n",
       "      <th>4</th>\n",
       "      <td>WindSpeed3pm</td>\n",
       "      <td>11.948414</td>\n",
       "    </tr>\n",
       "    <tr>\n",
       "      <th>5</th>\n",
       "      <td>Humidity9am</td>\n",
       "      <td>16.374042</td>\n",
       "    </tr>\n",
       "    <tr>\n",
       "      <th>6</th>\n",
       "      <td>Humidity3pm</td>\n",
       "      <td>14.025296</td>\n",
       "    </tr>\n",
       "  </tbody>\n",
       "</table>\n",
       "</div>"
      ],
      "text/plain": [
       "         columns        vif\n",
       "0        MinTemp   4.647624\n",
       "1       Rainfall   1.141151\n",
       "2  WindGustSpeed  19.935058\n",
       "3   WindSpeed9am   6.988526\n",
       "4   WindSpeed3pm  11.948414\n",
       "5    Humidity9am  16.374042\n",
       "6    Humidity3pm  14.025296"
      ]
     },
     "execution_count": 190,
     "metadata": {},
     "output_type": "execute_result"
    }
   ],
   "source": [
    "VIFfunc(numerical_data)"
   ]
  },
  {
   "cell_type": "code",
   "execution_count": 191,
   "metadata": {},
   "outputs": [],
   "source": [
    "numerical_data.drop(['WindGustSpeed'],axis = 1, inplace = True)"
   ]
  },
  {
   "cell_type": "code",
   "execution_count": 192,
   "metadata": {},
   "outputs": [
    {
     "data": {
      "text/html": [
       "<div>\n",
       "<style scoped>\n",
       "    .dataframe tbody tr th:only-of-type {\n",
       "        vertical-align: middle;\n",
       "    }\n",
       "\n",
       "    .dataframe tbody tr th {\n",
       "        vertical-align: top;\n",
       "    }\n",
       "\n",
       "    .dataframe thead th {\n",
       "        text-align: right;\n",
       "    }\n",
       "</style>\n",
       "<table border=\"1\" class=\"dataframe\">\n",
       "  <thead>\n",
       "    <tr style=\"text-align: right;\">\n",
       "      <th></th>\n",
       "      <th>columns</th>\n",
       "      <th>vif</th>\n",
       "    </tr>\n",
       "  </thead>\n",
       "  <tbody>\n",
       "    <tr>\n",
       "      <th>0</th>\n",
       "      <td>MinTemp</td>\n",
       "      <td>4.396541</td>\n",
       "    </tr>\n",
       "    <tr>\n",
       "      <th>1</th>\n",
       "      <td>Rainfall</td>\n",
       "      <td>1.139975</td>\n",
       "    </tr>\n",
       "    <tr>\n",
       "      <th>2</th>\n",
       "      <td>WindSpeed9am</td>\n",
       "      <td>5.588892</td>\n",
       "    </tr>\n",
       "    <tr>\n",
       "      <th>3</th>\n",
       "      <td>WindSpeed3pm</td>\n",
       "      <td>7.862908</td>\n",
       "    </tr>\n",
       "    <tr>\n",
       "      <th>4</th>\n",
       "      <td>Humidity9am</td>\n",
       "      <td>14.953758</td>\n",
       "    </tr>\n",
       "    <tr>\n",
       "      <th>5</th>\n",
       "      <td>Humidity3pm</td>\n",
       "      <td>13.907869</td>\n",
       "    </tr>\n",
       "  </tbody>\n",
       "</table>\n",
       "</div>"
      ],
      "text/plain": [
       "        columns        vif\n",
       "0       MinTemp   4.396541\n",
       "1      Rainfall   1.139975\n",
       "2  WindSpeed9am   5.588892\n",
       "3  WindSpeed3pm   7.862908\n",
       "4   Humidity9am  14.953758\n",
       "5   Humidity3pm  13.907869"
      ]
     },
     "execution_count": 192,
     "metadata": {},
     "output_type": "execute_result"
    }
   ],
   "source": [
    "VIFfunc(numerical_data)"
   ]
  },
  {
   "cell_type": "markdown",
   "metadata": {},
   "source": [
    "- Here, **Making Assumption that if the VIF < 20** columns are there in the data "
   ]
  },
  {
   "cell_type": "code",
   "execution_count": 193,
   "metadata": {},
   "outputs": [],
   "source": [
    "df2 = numerical_data"
   ]
  },
  {
   "cell_type": "code",
   "execution_count": 194,
   "metadata": {},
   "outputs": [
    {
     "data": {
      "text/plain": [
       "(79413, 6)"
      ]
     },
     "execution_count": 194,
     "metadata": {},
     "output_type": "execute_result"
    }
   ],
   "source": [
    "df2.shape"
   ]
  },
  {
   "cell_type": "code",
   "execution_count": 195,
   "metadata": {},
   "outputs": [
    {
     "data": {
      "text/plain": [
       "(79413, 43)"
      ]
     },
     "execution_count": 195,
     "metadata": {},
     "output_type": "execute_result"
    }
   ],
   "source": [
    "df1.shape"
   ]
  },
  {
   "cell_type": "code",
   "execution_count": 196,
   "metadata": {},
   "outputs": [],
   "source": [
    "data = pd.concat([df1,df2],axis = 1)"
   ]
  },
  {
   "cell_type": "code",
   "execution_count": 197,
   "metadata": {
    "scrolled": false
   },
   "outputs": [
    {
     "data": {
      "text/html": [
       "<div>\n",
       "<style scoped>\n",
       "    .dataframe tbody tr th:only-of-type {\n",
       "        vertical-align: middle;\n",
       "    }\n",
       "\n",
       "    .dataframe tbody tr th {\n",
       "        vertical-align: top;\n",
       "    }\n",
       "\n",
       "    .dataframe thead th {\n",
       "        text-align: right;\n",
       "    }\n",
       "</style>\n",
       "<table border=\"1\" class=\"dataframe\">\n",
       "  <thead>\n",
       "    <tr style=\"text-align: right;\">\n",
       "      <th></th>\n",
       "      <th>RainToday</th>\n",
       "      <th>WindGustDir_E</th>\n",
       "      <th>WindGustDir_ENE</th>\n",
       "      <th>WindGustDir_ESE</th>\n",
       "      <th>WindGustDir_N</th>\n",
       "      <th>WindGustDir_NE</th>\n",
       "      <th>WindGustDir_NNE</th>\n",
       "      <th>WindGustDir_NNW</th>\n",
       "      <th>WindGustDir_NW</th>\n",
       "      <th>WindGustDir_SE</th>\n",
       "      <th>...</th>\n",
       "      <th>WindDir9am_SSE</th>\n",
       "      <th>WindDir9am_W</th>\n",
       "      <th>WindDir9am_WNW</th>\n",
       "      <th>WindDir9am_WSW</th>\n",
       "      <th>MinTemp</th>\n",
       "      <th>Rainfall</th>\n",
       "      <th>WindSpeed9am</th>\n",
       "      <th>WindSpeed3pm</th>\n",
       "      <th>Humidity9am</th>\n",
       "      <th>Humidity3pm</th>\n",
       "    </tr>\n",
       "  </thead>\n",
       "  <tbody>\n",
       "    <tr>\n",
       "      <th>1</th>\n",
       "      <td>0.0</td>\n",
       "      <td>0.0</td>\n",
       "      <td>0.0</td>\n",
       "      <td>0.0</td>\n",
       "      <td>0.0</td>\n",
       "      <td>0.0</td>\n",
       "      <td>1.0</td>\n",
       "      <td>0.0</td>\n",
       "      <td>0.0</td>\n",
       "      <td>0.0</td>\n",
       "      <td>...</td>\n",
       "      <td>0.0</td>\n",
       "      <td>0.0</td>\n",
       "      <td>0.0</td>\n",
       "      <td>0.0</td>\n",
       "      <td>0.334963</td>\n",
       "      <td>0.0</td>\n",
       "      <td>0.129412</td>\n",
       "      <td>0.200000</td>\n",
       "      <td>0.646465</td>\n",
       "      <td>0.37</td>\n",
       "    </tr>\n",
       "    <tr>\n",
       "      <th>2</th>\n",
       "      <td>0.0</td>\n",
       "      <td>0.0</td>\n",
       "      <td>0.0</td>\n",
       "      <td>0.0</td>\n",
       "      <td>0.0</td>\n",
       "      <td>0.0</td>\n",
       "      <td>0.0</td>\n",
       "      <td>0.0</td>\n",
       "      <td>0.0</td>\n",
       "      <td>0.0</td>\n",
       "      <td>...</td>\n",
       "      <td>0.0</td>\n",
       "      <td>0.0</td>\n",
       "      <td>0.0</td>\n",
       "      <td>0.0</td>\n",
       "      <td>0.322738</td>\n",
       "      <td>0.0</td>\n",
       "      <td>0.058824</td>\n",
       "      <td>0.047059</td>\n",
       "      <td>0.707071</td>\n",
       "      <td>0.28</td>\n",
       "    </tr>\n",
       "    <tr>\n",
       "      <th>3</th>\n",
       "      <td>0.0</td>\n",
       "      <td>0.0</td>\n",
       "      <td>0.0</td>\n",
       "      <td>0.0</td>\n",
       "      <td>0.0</td>\n",
       "      <td>0.0</td>\n",
       "      <td>0.0</td>\n",
       "      <td>0.0</td>\n",
       "      <td>0.0</td>\n",
       "      <td>0.0</td>\n",
       "      <td>...</td>\n",
       "      <td>0.0</td>\n",
       "      <td>0.0</td>\n",
       "      <td>0.0</td>\n",
       "      <td>0.0</td>\n",
       "      <td>0.508557</td>\n",
       "      <td>0.0</td>\n",
       "      <td>0.129412</td>\n",
       "      <td>0.482353</td>\n",
       "      <td>0.646465</td>\n",
       "      <td>0.76</td>\n",
       "    </tr>\n",
       "    <tr>\n",
       "      <th>4</th>\n",
       "      <td>0.0</td>\n",
       "      <td>0.0</td>\n",
       "      <td>1.0</td>\n",
       "      <td>0.0</td>\n",
       "      <td>0.0</td>\n",
       "      <td>0.0</td>\n",
       "      <td>0.0</td>\n",
       "      <td>0.0</td>\n",
       "      <td>0.0</td>\n",
       "      <td>0.0</td>\n",
       "      <td>...</td>\n",
       "      <td>0.0</td>\n",
       "      <td>0.0</td>\n",
       "      <td>0.0</td>\n",
       "      <td>0.0</td>\n",
       "      <td>0.498778</td>\n",
       "      <td>0.0</td>\n",
       "      <td>0.058824</td>\n",
       "      <td>0.152941</td>\n",
       "      <td>0.606061</td>\n",
       "      <td>0.46</td>\n",
       "    </tr>\n",
       "  </tbody>\n",
       "</table>\n",
       "<p>4 rows × 49 columns</p>\n",
       "</div>"
      ],
      "text/plain": [
       "   RainToday  WindGustDir_E  WindGustDir_ENE  WindGustDir_ESE  WindGustDir_N  \\\n",
       "1        0.0            0.0              0.0              0.0            0.0   \n",
       "2        0.0            0.0              0.0              0.0            0.0   \n",
       "3        0.0            0.0              0.0              0.0            0.0   \n",
       "4        0.0            0.0              1.0              0.0            0.0   \n",
       "\n",
       "   WindGustDir_NE  WindGustDir_NNE  WindGustDir_NNW  WindGustDir_NW  \\\n",
       "1             0.0              1.0              0.0             0.0   \n",
       "2             0.0              0.0              0.0             0.0   \n",
       "3             0.0              0.0              0.0             0.0   \n",
       "4             0.0              0.0              0.0             0.0   \n",
       "\n",
       "   WindGustDir_SE     ...       WindDir9am_SSE  WindDir9am_W  WindDir9am_WNW  \\\n",
       "1             0.0     ...                  0.0           0.0             0.0   \n",
       "2             0.0     ...                  0.0           0.0             0.0   \n",
       "3             0.0     ...                  0.0           0.0             0.0   \n",
       "4             0.0     ...                  0.0           0.0             0.0   \n",
       "\n",
       "   WindDir9am_WSW   MinTemp  Rainfall  WindSpeed9am  WindSpeed3pm  \\\n",
       "1             0.0  0.334963       0.0      0.129412      0.200000   \n",
       "2             0.0  0.322738       0.0      0.058824      0.047059   \n",
       "3             0.0  0.508557       0.0      0.129412      0.482353   \n",
       "4             0.0  0.498778       0.0      0.058824      0.152941   \n",
       "\n",
       "   Humidity9am  Humidity3pm  \n",
       "1     0.646465         0.37  \n",
       "2     0.707071         0.28  \n",
       "3     0.646465         0.76  \n",
       "4     0.606061         0.46  \n",
       "\n",
       "[4 rows x 49 columns]"
      ]
     },
     "execution_count": 197,
     "metadata": {},
     "output_type": "execute_result"
    }
   ],
   "source": [
    "#next step is to standardize our data - using MinMaxScaler\n",
    "from sklearn import preprocessing\n",
    "scaler = preprocessing.MinMaxScaler()\n",
    "scaler.fit(data)\n",
    "df = pd.DataFrame(scaler.transform(data), index=data.index, columns=data.columns)\n",
    "df.iloc[1:5]"
   ]
  },
  {
   "cell_type": "code",
   "execution_count": 203,
   "metadata": {},
   "outputs": [
    {
     "name": "stdout",
     "output_type": "stream",
     "text": [
      "Optimization terminated successfully.\n",
      "         Current function value: 0.422621\n",
      "         Iterations 7\n",
      "                           Logit Regression Results                           \n",
      "==============================================================================\n",
      "Dep. Variable:           RainTomorrow   No. Observations:                79413\n",
      "Model:                          Logit   Df Residuals:                    79365\n",
      "Method:                           MLE   Df Model:                           47\n",
      "Date:                Fri, 31 May 2019   Pseudo R-squ.:                  0.2022\n",
      "Time:                        14:23:07   Log-Likelihood:                -33562.\n",
      "converged:                       True   LL-Null:                       -42069.\n",
      "                                        LLR p-value:                     0.000\n",
      "===================================================================================\n",
      "                      coef    std err          z      P>|z|      [0.025      0.975]\n",
      "-----------------------------------------------------------------------------------\n",
      "RainToday           0.9729      0.026     37.003      0.000       0.921       1.024\n",
      "WindGustDir_E      -0.6256      0.056    -11.221      0.000      -0.735      -0.516\n",
      "WindGustDir_ENE    -0.7344      0.057    -12.778      0.000      -0.847      -0.622\n",
      "WindGustDir_ESE    -0.4593      0.057     -7.998      0.000      -0.572      -0.347\n",
      "WindGustDir_N      -0.5883      0.049    -11.962      0.000      -0.685      -0.492\n",
      "WindGustDir_NE     -0.9048      0.059    -15.398      0.000      -1.020      -0.790\n",
      "WindGustDir_NNE    -0.7175      0.056    -12.740      0.000      -0.828      -0.607\n",
      "WindGustDir_NNW    -0.5087      0.055     -9.213      0.000      -0.617      -0.400\n",
      "WindGustDir_NW     -0.5598      0.053    -10.656      0.000      -0.663      -0.457\n",
      "WindGustDir_SE     -0.2846      0.050     -5.671      0.000      -0.383      -0.186\n",
      "WindGustDir_SSE    -0.4017      0.048     -8.304      0.000      -0.496      -0.307\n",
      "WindGustDir_SW     -0.8859      0.047    -18.927      0.000      -0.978      -0.794\n",
      "WindGustDir_W      -0.6251      0.047    -13.279      0.000      -0.717      -0.533\n",
      "WindGustDir_WNW    -0.5292      0.051    -10.340      0.000      -0.629      -0.429\n",
      "WindGustDir_WSW    -0.7339      0.046    -15.871      0.000      -0.825      -0.643\n",
      "WindDir3pm_E       -0.6192      0.053    -11.610      0.000      -0.724      -0.515\n",
      "WindDir3pm_ENE     -0.5882      0.054    -10.980      0.000      -0.693      -0.483\n",
      "WindDir3pm_ESE     -0.7488      0.052    -14.268      0.000      -0.852      -0.646\n",
      "WindDir3pm_NE      -0.5960      0.052    -11.503      0.000      -0.698      -0.494\n",
      "WindDir3pm_NNE     -0.2471      0.051     -4.803      0.000      -0.348      -0.146\n",
      "WindDir3pm_NNW      0.0818      0.048      1.695      0.090      -0.013       0.176\n",
      "WindDir3pm_NW       0.1296      0.047      2.746      0.006       0.037       0.222\n",
      "WindDir3pm_S       -1.1369      0.045    -25.138      0.000      -1.226      -1.048\n",
      "WindDir3pm_SE      -0.8873      0.049    -18.241      0.000      -0.983      -0.792\n",
      "WindDir3pm_SSE     -1.0387      0.048    -21.620      0.000      -1.133      -0.945\n",
      "WindDir3pm_SW      -0.8819      0.046    -19.141      0.000      -0.972      -0.792\n",
      "WindDir3pm_W       -0.2083      0.044     -4.777      0.000      -0.294      -0.123\n",
      "WindDir3pm_WNW      0.0773      0.046      1.684      0.092      -0.013       0.167\n",
      "WindDir9am_E       -0.4375      0.052     -8.481      0.000      -0.539      -0.336\n",
      "WindDir9am_ENE     -0.2213      0.052     -4.272      0.000      -0.323      -0.120\n",
      "WindDir9am_ESE     -0.5815      0.055    -10.572      0.000      -0.689      -0.474\n",
      "WindDir9am_N       -0.0765      0.044     -1.738      0.082      -0.163       0.010\n",
      "WindDir9am_NE      -0.1888      0.051     -3.682      0.000      -0.289      -0.088\n",
      "WindDir9am_NNE     -0.0108      0.048     -0.223      0.824      -0.106       0.084\n",
      "WindDir9am_NNW     -0.3019      0.048     -6.263      0.000      -0.396      -0.207\n",
      "WindDir9am_NW      -0.4992      0.048    -10.330      0.000      -0.594      -0.404\n",
      "WindDir9am_S       -0.7133      0.047    -15.073      0.000      -0.806      -0.621\n",
      "WindDir9am_SE      -0.6122      0.051    -11.995      0.000      -0.712      -0.512\n",
      "WindDir9am_SSE     -0.5387      0.048    -11.301      0.000      -0.632      -0.445\n",
      "WindDir9am_W       -0.4589      0.048     -9.590      0.000      -0.553      -0.365\n",
      "WindDir9am_WNW     -0.5296      0.050    -10.612      0.000      -0.627      -0.432\n",
      "WindDir9am_WSW     -0.5504      0.049    -11.295      0.000      -0.646      -0.455\n",
      "MinTemp            -1.6345      0.062    -26.443      0.000      -1.756      -1.513\n",
      "Rainfall            7.6595      0.400     19.144      0.000       6.875       8.444\n",
      "WindSpeed9am       -0.6164      0.119     -5.161      0.000      -0.850      -0.382\n",
      "WindSpeed3pm       -0.5805      0.113     -5.151      0.000      -0.801      -0.360\n",
      "Humidity9am        -4.4120      0.068    -64.746      0.000      -4.546      -4.278\n",
      "Humidity3pm         6.8322      0.076     89.708      0.000       6.683       6.981\n",
      "===================================================================================\n"
     ]
    }
   ],
   "source": [
    "import statsmodels.api as sm\n",
    "\n",
    "logit_model=sm.Logit(y,df)\n",
    "result=logit_model.fit()\n",
    "print(result.summary())"
   ]
  },
  {
   "cell_type": "markdown",
   "metadata": {},
   "source": [
    "- The p-values for all the variables should be lessthan 0.05 then they are significant to the model."
   ]
  },
  {
   "cell_type": "code",
   "execution_count": 204,
   "metadata": {
    "scrolled": true
   },
   "outputs": [],
   "source": [
    "df.drop('WindDir9am_NNE',axis = 1,inplace = True)"
   ]
  },
  {
   "cell_type": "code",
   "execution_count": 205,
   "metadata": {},
   "outputs": [
    {
     "name": "stdout",
     "output_type": "stream",
     "text": [
      "Optimization terminated successfully.\n",
      "         Current function value: 0.422621\n",
      "         Iterations 7\n",
      "                           Logit Regression Results                           \n",
      "==============================================================================\n",
      "Dep. Variable:           RainTomorrow   No. Observations:                79413\n",
      "Model:                          Logit   Df Residuals:                    79366\n",
      "Method:                           MLE   Df Model:                           46\n",
      "Date:                Fri, 31 May 2019   Pseudo R-squ.:                  0.2022\n",
      "Time:                        14:23:56   Log-Likelihood:                -33562.\n",
      "converged:                       True   LL-Null:                       -42069.\n",
      "                                        LLR p-value:                     0.000\n",
      "===================================================================================\n",
      "                      coef    std err          z      P>|z|      [0.025      0.975]\n",
      "-----------------------------------------------------------------------------------\n",
      "RainToday           0.9734      0.026     37.131      0.000       0.922       1.025\n",
      "WindGustDir_E      -0.6268      0.055    -11.301      0.000      -0.736      -0.518\n",
      "WindGustDir_ENE    -0.7359      0.057    -12.897      0.000      -0.848      -0.624\n",
      "WindGustDir_ESE    -0.4604      0.057     -8.051      0.000      -0.573      -0.348\n",
      "WindGustDir_N      -0.5910      0.048    -12.430      0.000      -0.684      -0.498\n",
      "WindGustDir_NE     -0.9070      0.058    -15.668      0.000      -1.020      -0.794\n",
      "WindGustDir_NNE    -0.7206      0.055    -13.188      0.000      -0.828      -0.613\n",
      "WindGustDir_NNW    -0.5108      0.054     -9.387      0.000      -0.617      -0.404\n",
      "WindGustDir_NW     -0.5616      0.052    -10.817      0.000      -0.663      -0.460\n",
      "WindGustDir_SE     -0.2856      0.050     -5.714      0.000      -0.384      -0.188\n",
      "WindGustDir_SSE    -0.4024      0.048     -8.336      0.000      -0.497      -0.308\n",
      "WindGustDir_SW     -0.8864      0.047    -18.957      0.000      -0.978      -0.795\n",
      "WindGustDir_W      -0.6265      0.047    -13.416      0.000      -0.718      -0.535\n",
      "WindGustDir_WNW    -0.5308      0.051    -10.475      0.000      -0.630      -0.431\n",
      "WindGustDir_WSW    -0.7350      0.046    -15.971      0.000      -0.825      -0.645\n",
      "WindDir3pm_E       -0.6190      0.053    -11.609      0.000      -0.724      -0.515\n",
      "WindDir3pm_ENE     -0.5879      0.054    -10.978      0.000      -0.693      -0.483\n",
      "WindDir3pm_ESE     -0.7487      0.052    -14.267      0.000      -0.852      -0.646\n",
      "WindDir3pm_NE      -0.5962      0.052    -11.507      0.000      -0.698      -0.495\n",
      "WindDir3pm_NNE     -0.2478      0.051     -4.824      0.000      -0.349      -0.147\n",
      "WindDir3pm_NNW      0.0812      0.048      1.685      0.092      -0.013       0.176\n",
      "WindDir3pm_NW       0.1290      0.047      2.738      0.006       0.037       0.221\n",
      "WindDir3pm_S       -1.1367      0.045    -25.142      0.000      -1.225      -1.048\n",
      "WindDir3pm_SE      -0.8872      0.049    -18.240      0.000      -0.983      -0.792\n",
      "WindDir3pm_SSE     -1.0385      0.048    -21.620      0.000      -1.133      -0.944\n",
      "WindDir3pm_SW      -0.8818      0.046    -19.140      0.000      -0.972      -0.792\n",
      "WindDir3pm_W       -0.2087      0.044     -4.793      0.000      -0.294      -0.123\n",
      "WindDir3pm_WNW      0.0768      0.046      1.675      0.094      -0.013       0.167\n",
      "WindDir9am_E       -0.4341      0.049     -8.812      0.000      -0.531      -0.338\n",
      "WindDir9am_ENE     -0.2176      0.049     -4.425      0.000      -0.314      -0.121\n",
      "WindDir9am_ESE     -0.5783      0.053    -10.894      0.000      -0.682      -0.474\n",
      "WindDir9am_N       -0.0721      0.039     -1.829      0.067      -0.149       0.005\n",
      "WindDir9am_NE      -0.1847      0.048     -3.852      0.000      -0.279      -0.091\n",
      "WindDir9am_NNW     -0.2979      0.045     -6.669      0.000      -0.385      -0.210\n",
      "WindDir9am_NW      -0.4953      0.045    -10.988      0.000      -0.584      -0.407\n",
      "WindDir9am_S       -0.7107      0.046    -15.488      0.000      -0.801      -0.621\n",
      "WindDir9am_SE      -0.6091      0.049    -12.402      0.000      -0.705      -0.513\n",
      "WindDir9am_SSE     -0.5358      0.046    -11.680      0.000      -0.626      -0.446\n",
      "WindDir9am_W       -0.4557      0.046    -10.009      0.000      -0.545      -0.366\n",
      "WindDir9am_WNW     -0.5261      0.047    -11.119      0.000      -0.619      -0.433\n",
      "WindDir9am_WSW     -0.5475      0.047    -11.658      0.000      -0.640      -0.455\n",
      "MinTemp            -1.6361      0.061    -26.637      0.000      -1.756      -1.516\n",
      "Rainfall            7.6627      0.400     19.163      0.000       6.879       8.446\n",
      "WindSpeed9am       -0.6172      0.119     -5.170      0.000      -0.851      -0.383\n",
      "WindSpeed3pm       -0.5818      0.113     -5.170      0.000      -0.802      -0.361\n",
      "Humidity9am        -4.4140      0.068    -65.368      0.000      -4.546      -4.282\n",
      "Humidity3pm         6.8329      0.076     89.780      0.000       6.684       6.982\n",
      "===================================================================================\n"
     ]
    }
   ],
   "source": [
    "import statsmodels.api as sm\n",
    "\n",
    "logit_model=sm.Logit(y,df)\n",
    "result=logit_model.fit()\n",
    "print(result.summary())"
   ]
  },
  {
   "cell_type": "code",
   "execution_count": 207,
   "metadata": {},
   "outputs": [],
   "source": [
    "df.drop(['WindDir9am_N','WindDir3pm_WNW','WindDir3pm_NNW'],axis = 1,inplace = True)"
   ]
  },
  {
   "cell_type": "code",
   "execution_count": 208,
   "metadata": {},
   "outputs": [
    {
     "name": "stdout",
     "output_type": "stream",
     "text": [
      "Optimization terminated successfully.\n",
      "         Current function value: 0.422668\n",
      "         Iterations 7\n",
      "                           Logit Regression Results                           \n",
      "==============================================================================\n",
      "Dep. Variable:           RainTomorrow   No. Observations:                79413\n",
      "Model:                          Logit   Df Residuals:                    79369\n",
      "Method:                           MLE   Df Model:                           43\n",
      "Date:                Fri, 31 May 2019   Pseudo R-squ.:                  0.2021\n",
      "Time:                        14:25:58   Log-Likelihood:                -33565.\n",
      "converged:                       True   LL-Null:                       -42069.\n",
      "                                        LLR p-value:                     0.000\n",
      "===================================================================================\n",
      "                      coef    std err          z      P>|z|      [0.025      0.975]\n",
      "-----------------------------------------------------------------------------------\n",
      "RainToday           0.9751      0.026     37.254      0.000       0.924       1.026\n",
      "WindGustDir_E      -0.6239      0.055    -11.315      0.000      -0.732      -0.516\n",
      "WindGustDir_ENE    -0.7326      0.057    -12.923      0.000      -0.844      -0.621\n",
      "WindGustDir_ESE    -0.4581      0.057     -8.044      0.000      -0.570      -0.346\n",
      "WindGustDir_N      -0.6025      0.045    -13.299      0.000      -0.691      -0.514\n",
      "WindGustDir_NE     -0.9058      0.057    -15.754      0.000      -1.018      -0.793\n",
      "WindGustDir_NNE    -0.7224      0.054    -13.360      0.000      -0.828      -0.616\n",
      "WindGustDir_NNW    -0.5016      0.051     -9.838      0.000      -0.602      -0.402\n",
      "WindGustDir_NW     -0.5471      0.049    -11.118      0.000      -0.644      -0.451\n",
      "WindGustDir_SE     -0.2843      0.050     -5.712      0.000      -0.382      -0.187\n",
      "WindGustDir_SSE    -0.4010      0.048     -8.331      0.000      -0.495      -0.307\n",
      "WindGustDir_SW     -0.8878      0.047    -19.003      0.000      -0.979      -0.796\n",
      "WindGustDir_W      -0.6199      0.046    -13.606      0.000      -0.709      -0.531\n",
      "WindGustDir_WNW    -0.5135      0.048    -10.693      0.000      -0.608      -0.419\n",
      "WindGustDir_WSW    -0.7362      0.046    -16.086      0.000      -0.826      -0.647\n",
      "WindDir3pm_E       -0.6405      0.052    -12.287      0.000      -0.743      -0.538\n",
      "WindDir3pm_ENE     -0.6102      0.052    -11.678      0.000      -0.713      -0.508\n",
      "WindDir3pm_ESE     -0.7693      0.051    -14.972      0.000      -0.870      -0.669\n",
      "WindDir3pm_NE      -0.6201      0.050    -12.299      0.000      -0.719      -0.521\n",
      "WindDir3pm_NNE     -0.2727      0.050     -5.473      0.000      -0.370      -0.175\n",
      "WindDir3pm_NW       0.0875      0.043      2.020      0.043       0.003       0.172\n",
      "WindDir3pm_S       -1.1495      0.045    -25.813      0.000      -1.237      -1.062\n",
      "WindDir3pm_SE      -0.9059      0.048    -19.026      0.000      -0.999      -0.813\n",
      "WindDir3pm_SSE     -1.0538      0.047    -22.310      0.000      -1.146      -0.961\n",
      "WindDir3pm_SW      -0.8981      0.045    -19.870      0.000      -0.987      -0.809\n",
      "WindDir3pm_W       -0.2401      0.041     -5.871      0.000      -0.320      -0.160\n",
      "WindDir9am_E       -0.4128      0.048     -8.589      0.000      -0.507      -0.319\n",
      "WindDir9am_ENE     -0.1953      0.048     -4.080      0.000      -0.289      -0.102\n",
      "WindDir9am_ESE     -0.5583      0.052    -10.719      0.000      -0.660      -0.456\n",
      "WindDir9am_NE      -0.1591      0.046     -3.441      0.001      -0.250      -0.068\n",
      "WindDir9am_NNW     -0.2638      0.042     -6.301      0.000      -0.346      -0.182\n",
      "WindDir9am_NW      -0.4636      0.043    -10.885      0.000      -0.547      -0.380\n",
      "WindDir9am_S       -0.6946      0.045    -15.408      0.000      -0.783      -0.606\n",
      "WindDir9am_SE      -0.5898      0.048    -12.259      0.000      -0.684      -0.496\n",
      "WindDir9am_SSE     -0.5179      0.045    -11.532      0.000      -0.606      -0.430\n",
      "WindDir9am_W       -0.4347      0.044     -9.892      0.000      -0.521      -0.349\n",
      "WindDir9am_WNW     -0.4983      0.045    -10.988      0.000      -0.587      -0.409\n",
      "WindDir9am_WSW     -0.5313      0.046    -11.590      0.000      -0.621      -0.441\n",
      "MinTemp            -1.6274      0.061    -26.639      0.000      -1.747      -1.508\n",
      "Rainfall            7.6731      0.400     19.198      0.000       6.890       8.457\n",
      "WindSpeed9am       -0.6301      0.119     -5.286      0.000      -0.864      -0.396\n",
      "WindSpeed3pm       -0.5913      0.112     -5.274      0.000      -0.811      -0.372\n",
      "Humidity9am        -4.4058      0.067    -65.893      0.000      -4.537      -4.275\n",
      "Humidity3pm         6.8198      0.076     89.882      0.000       6.671       6.968\n",
      "===================================================================================\n"
     ]
    }
   ],
   "source": [
    "logit_model=sm.Logit(y,df)\n",
    "result=logit_model.fit()\n",
    "print(result.summary())"
   ]
  },
  {
   "cell_type": "markdown",
   "metadata": {},
   "source": [
    "## The p-values for all the variables are lessthan 0.05 therefore, most of them are significant to the model."
   ]
  },
  {
   "cell_type": "code",
   "execution_count": 209,
   "metadata": {},
   "outputs": [
    {
     "name": "stdout",
     "output_type": "stream",
     "text": [
      "Accuracy : 0.8360531882744031\n",
      "Time taken : 1.0977025032043457\n"
     ]
    }
   ],
   "source": [
    "#Logistic Regression \n",
    "from sklearn.linear_model import LogisticRegression\n",
    "from sklearn.model_selection import train_test_split\n",
    "from sklearn.metrics import accuracy_score\n",
    "import time\n",
    "\n",
    "t0=time.time()\n",
    "X_train,X_test,y_train,y_test = train_test_split(df,y,test_size=0.25)\n",
    "clf_logreg = LogisticRegression(random_state=0)\n",
    "clf_logreg.fit(X_train,y_train)\n",
    "y_pred = clf_logreg.predict(X_test)\n",
    "score = accuracy_score(y_test,y_pred)\n",
    "print('Accuracy :',score)\n",
    "print('Time taken :' , time.time()-t0)"
   ]
  },
  {
   "cell_type": "code",
   "execution_count": 213,
   "metadata": {},
   "outputs": [
    {
     "name": "stdout",
     "output_type": "stream",
     "text": [
      "[[13087  2446]\n",
      " [ 2161  2160]]\n"
     ]
    }
   ],
   "source": [
    "from sklearn.metrics import confusion_matrix\n",
    "\n",
    "confusion_matrix = confusion_matrix(y_test, y_pred)\n",
    "print(confusion_matrix)"
   ]
  },
  {
   "cell_type": "code",
   "execution_count": 214,
   "metadata": {},
   "outputs": [
    {
     "name": "stdout",
     "output_type": "stream",
     "text": [
      "              precision    recall  f1-score   support\n",
      "\n",
      "           0       0.86      0.84      0.85     15533\n",
      "           1       0.47      0.50      0.48      4321\n",
      "\n",
      "   micro avg       0.77      0.77      0.77     19854\n",
      "   macro avg       0.66      0.67      0.67     19854\n",
      "weighted avg       0.77      0.77      0.77     19854\n",
      "\n"
     ]
    }
   ],
   "source": [
    "from sklearn.metrics import classification_report\n",
    "\n",
    "print(classification_report(y_test, y_pred))"
   ]
  },
  {
   "cell_type": "code",
   "execution_count": 217,
   "metadata": {},
   "outputs": [
    {
     "data": {
      "image/png": "[encoded data removed]",
      "text/plain": [
       "<Figure size 432x288 with 1 Axes>"
      ]
     },
     "metadata": {},
     "output_type": "display_data"
    }
   ],
   "source": [
    "from sklearn.metrics import roc_auc_score\n",
    "from sklearn.metrics import roc_curve\n",
    "\n",
    "logit_roc_auc = roc_auc_score(y_test, clf_logreg.predict(X_test))\n",
    "\n",
    "fpr, tpr, thresholds = roc_curve(y_test, clf_logreg.predict_proba(X_test)[:,1])\n",
    "\n",
    "plt.figure()\n",
    "plt.plot(fpr, tpr, label='Logistic Regression (area = %0.2f)' % logit_roc_auc)\n",
    "plt.plot([0, 1], [0, 1],'r--')\n",
    "plt.xlim([0.0, 1.0])\n",
    "plt.ylim([0.0, 1.05])\n",
    "plt.xlabel('False Positive Rate')\n",
    "plt.ylabel('True Positive Rate')\n",
    "plt.title('Receiver operating characteristic')\n",
    "plt.legend(loc=\"lower right\")\n",
    "plt.savefig('Log_ROC')\n",
    "plt.show()"
   ]
  },
  {
   "cell_type": "code",
   "execution_count": 210,
   "metadata": {},
   "outputs": [
    {
     "name": "stdout",
     "output_type": "stream",
     "text": [
      "Accuracy : 0.8167119975823511\n",
      "Time taken : 5.4835875034332275\n"
     ]
    }
   ],
   "source": [
    "#Random Forest Classifier \n",
    "from sklearn.ensemble import RandomForestClassifier\n",
    "from sklearn.model_selection import train_test_split\n",
    "\n",
    "t0=time.time()\n",
    "X_train,X_test,y_train,y_test = train_test_split(df,y,test_size=0.25)\n",
    "clf_rf = RandomForestClassifier(n_estimators=100, max_depth=4,random_state=0)\n",
    "clf_rf.fit(X_train,y_train)\n",
    "y_pred = clf_rf.predict(X_test)\n",
    "score = accuracy_score(y_test,y_pred)\n",
    "print('Accuracy :',score)\n",
    "print('Time taken :' , time.time()-t0)"
   ]
  },
  {
   "cell_type": "code",
   "execution_count": 212,
   "metadata": {},
   "outputs": [
    {
     "name": "stdout",
     "output_type": "stream",
     "text": [
      "Accuracy : 0.7679560793794701\n",
      "Time taken : 1.8556079864501953\n"
     ]
    }
   ],
   "source": [
    "#Decision Tree Classifier\n",
    "from sklearn.tree import DecisionTreeClassifier\n",
    "from sklearn.model_selection import train_test_split\n",
    "\n",
    "t0=time.time()\n",
    "X_train,X_test,y_train,y_test = train_test_split(df,y,test_size=0.25)\n",
    "clf_dt = DecisionTreeClassifier(random_state=0)\n",
    "clf_dt.fit(X_train,y_train)\n",
    "y_pred = clf_dt.predict(X_test)\n",
    "score = accuracy_score(y_test,y_pred)\n",
    "print('Accuracy :',score)\n",
    "print('Time taken :' , time.time()-t0)"
   ]
  },
  {
   "cell_type": "code",
   "execution_count": 218,
   "metadata": {},
   "outputs": [
    {
     "name": "stdout",
     "output_type": "stream",
     "text": [
      "Accuracy : 0.8369598065880931\n",
      "Time taken : 404.91038250923157\n"
     ]
    }
   ],
   "source": [
    "#Support Vector Machine\n",
    "from sklearn import svm\n",
    "from sklearn.model_selection import train_test_split\n",
    "\n",
    "t0=time.time()\n",
    "X_train,X_test,y_train,y_test = train_test_split(df,y,test_size=0.25)\n",
    "clf_svc = svm.SVC(kernel='linear')\n",
    "clf_svc.fit(X_train,y_train)\n",
    "y_pred = clf_svc.predict(X_test)\n",
    "score = accuracy_score(y_test,y_pred)\n",
    "print('Accuracy :',score)\n",
    "print('Time taken :' , time.time()-t0)"
   ]
  }
 ],
 "metadata": {
  "kernelspec": {
   "display_name": "Python 3",
   "language": "python",
   "name": "python3"
  },
  "language_info": {
   "codemirror_mode": {
    "name": "ipython",
    "version": 3
   },
   "file_extension": ".py",
   "mimetype": "text/x-python",
   "name": "python",
   "nbconvert_exporter": "python",
   "pygments_lexer": "ipython3",
   "version": "3.6.5"
  }
 },
 "nbformat": 4,
 "nbformat_minor": 2
}
